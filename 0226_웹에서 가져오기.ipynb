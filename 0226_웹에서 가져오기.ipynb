{
 "cells": [
  {
   "cell_type": "markdown",
   "metadata": {},
   "source": [
    "# 웹에서 가져오기 - get 방식"
   ]
  },
  {
   "cell_type": "code",
   "execution_count": 8,
   "metadata": {},
   "outputs": [
    {
     "name": "stdout",
     "output_type": "stream",
     "text": [
      "['__attrs__', '__bool__', '__class__', '__delattr__', '__dict__', '__dir__', '__doc__', '__enter__', '__eq__', '__exit__', '__format__', '__ge__', '__getattribute__', '__getstate__', '__gt__', '__hash__', '__init__', '__init_subclass__', '__iter__', '__le__', '__lt__', '__module__', '__ne__', '__new__', '__nonzero__', '__reduce__', '__reduce_ex__', '__repr__', '__setattr__', '__setstate__', '__sizeof__', '__str__', '__subclasshook__', '__weakref__', 'apparent_encoding', 'close', 'content', 'is_permanent_redirect', 'is_redirect', 'iter_content', 'iter_lines', 'json', 'links', 'next', 'ok', 'raise_for_status', 'text']\n"
     ]
    }
   ],
   "source": [
    "import requests as req\n",
    "#1. requests가 가지고 있는 것들을 현재 가지고 있는 커널에 reqeusts라는 이름으로 가져오는 것 as로 별명설정 가능\n",
    "\n",
    "#2.get 요청을 해서 텍스트 확인하기\n",
    "resp = req.get(\"http://httpbin.org/get\")\n",
    "#help(req.get) #2-1. help로 메소드가 어떤게 필요한지 확인하는 작업\n",
    "#print(resp.text)\n",
    "#print(type(resp)) #2-2. 결과를 받았으면 파이썬이 어떤 형태로 리턴해준건지 확인해보기\n",
    "print(dir(req.models.Response)) #2-3. resp가 requests.models.Response로부터 온 애라고 하니까 어떤게 들어가 있는지 확인해보기"
   ]
  },
  {
   "cell_type": "markdown",
   "metadata": {},
   "source": [
    "<h2> put과 delete 요청</h2>"
   ]
  },
  {
   "cell_type": "code",
   "execution_count": 16,
   "metadata": {
    "scrolled": true
   },
   "outputs": [
    {
     "name": "stdout",
     "output_type": "stream",
     "text": [
      "<!DOCTYPE HTML PUBLIC \"-//W3C//DTD HTML 3.2 Final//EN\">\n",
      "<title>405 Method Not Allowed</title>\n",
      "<h1>Method Not Allowed</h1>\n",
      "<p>The method is not allowed for the requested URL.</p>\n",
      "\n",
      "\n",
      "<Response [405]>\n",
      "<class 'requests.models.Response'>\n",
      "Help on function delete in module requests.api:\n",
      "\n",
      "delete(url, **kwargs)\n",
      "    Sends a DELETE request.\n",
      "    \n",
      "    :param url: URL for the new :class:`Request` object.\n",
      "    :param \\*\\*kwargs: Optional arguments that ``request`` takes.\n",
      "    :return: :class:`Response <Response>` object\n",
      "    :rtype: requests.Response\n",
      "\n"
     ]
    }
   ],
   "source": [
    "# put과 delete 요청\n",
    "resp = req.put(\"http://httpbin.org/get\")\n",
    "print(resp.text)\n",
    "print(\"\")\n",
    "\n",
    "resp=req.delete(\"http://httpbin.org/get\")\n",
    "print(resp)\n",
    "print(type(resp))\n",
    "help(req.delete)"
   ]
  },
  {
   "cell_type": "markdown",
   "metadata": {},
   "source": [
    "<h2>post 방식으로 요청하는 파라미터와 함께 전송하는 방식</h2>"
   ]
  },
  {
   "cell_type": "code",
   "execution_count": 23,
   "metadata": {},
   "outputs": [
    {
     "name": "stdout",
     "output_type": "stream",
     "text": [
      "{\n",
      "  \"args\": {}, \n",
      "  \"data\": \"\", \n",
      "  \"files\": {}, \n",
      "  \"form\": {\n",
      "    \"name\": \"sj\", \n",
      "    \"num\": \"1\"\n",
      "  }, \n",
      "  \"headers\": {\n",
      "    \"Accept\": \"*/*\", \n",
      "    \"Accept-Encoding\": \"gzip, deflate\", \n",
      "    \"Content-Length\": \"13\", \n",
      "    \"Content-Type\": \"application/x-www-form-urlencoded\", \n",
      "    \"Host\": \"httpbin.org\", \n",
      "    \"User-Agent\": \"python-requests/2.22.0\", \n",
      "    \"X-Amzn-Trace-Id\": \"Root=1-5e55bf5f-be6c220c9a1ac568cebe4d4a\"\n",
      "  }, \n",
      "  \"json\": null, \n",
      "  \"origin\": \"211.183.6.25\", \n",
      "  \"url\": \"http://httpbin.org/post\"\n",
      "}\n",
      "\n"
     ]
    }
   ],
   "source": [
    "#help(req.post)\n",
    "#requests 모듈을 사용하면 파라미터 인코딩을 할 필요가 없음 (단 data안에 dict 형태로 만들어줘야 함)\n",
    "resp = req.post(\"http://httpbin.org/post\", data={'name':'sj', 'num':1})\n",
    "print(resp.text)"
   ]
  },
  {
   "cell_type": "markdown",
   "metadata": {},
   "source": [
    "<h2>카카오API로 검색 데이터 불러오기</h2>"
   ]
  },
  {
   "cell_type": "code",
   "execution_count": null,
   "metadata": {},
   "outputs": [],
   "source": [
    "#curl -v -X GET \"https://dapi.kakao.com/v2/search/web\" \\\n",
    "#--data-urlencode \"query=이효리\" \\\n",
    "#-H \"Authorization: KakaoAK kkkkkkkkkkkkkkkkkkkkkkkkkkkkkkkk\""
   ]
  },
  {
   "cell_type": "code",
   "execution_count": 36,
   "metadata": {},
   "outputs": [
    {
     "name": "stdout",
     "output_type": "stream",
     "text": [
      "{\"documents\":[{\"contents\":\"2019년 말부터 유행하고 있는 바이러스에 대한 내용은 \\u003cb\\u003e코로나\\u003c/b\\u003e바이러스감염증-19 문서를 참조하십시오. 1. 라틴어2. 바이러스3. 과학 3.1. 방전 현상의 일종3.2. 태양 등 천구체의 플라스마 대기 3.2.1. \\u003cb\\u003e코로나\\u003c/b\\u003e...\",\"datetime\":\"2020-02-25T00:00:00.000+09:00\",\"title\":\"\\u003cb\\u003e코로나\\u003c/b\\u003e - 나무위키\",\"url\":\"https://namu.wiki/w/%EC%BD%94%EB%A1%9C%EB%82%98\"},{\"contents\":\"관계(...)4. 그 외 부가물 첨가 라거 중 하나. 정식 명칭은 \\u0026#39;Corona Extra\\u0026#39;이지만 다들 그냥 \\u0026#39;\\u003cb\\u003e코로나\\u003c/b\\u003e\\u0026#39;라고 부른다. 원산지는 멕시코이며, 이름은 \\u0026#34;왕관\\u0026#34;을 뜻하는 스페인어 \\u003cb\\u003e코로나\\u003c/b\\u003e에서 비롯하였다. 1. 소개[편집...\",\"datetime\":\"2020-02-23T00:00:00.000+09:00\",\"title\":\"\\u003cb\\u003e코로나\\u003c/b\\u003e(맥주) - 나무위키\",\"url\":\"https://namu.wiki/w/%EC%BD%94%EB%A1%9C%EB%82%98(%EB%A7%A5%EC%A3%BC)\"},{\"contents\":\"미래통합당이 24일 최고위원회를 열고 신종 \\u003cb\\u003e코로나\\u003c/b\\u003e바이러스 감염증인 ‘\\u003cb\\u003e코로나\\u003c/b\\u003e19’ 확산 사태와 관련해 정부에 중국 전역 방문자에 대한 전면 입국금지 등 고강도 대책을 촉구했다. 이 과정에서 황교안 대표는...\",\"datetime\":\"2020-02-25T00:00:00.000+09:00\",\"title\":\"‘대구 \\u003cb\\u003e코로나\\u003c/b\\u003e’ 안 된다며 ‘우한 \\u003cb\\u003e코로나\\u003c/b\\u003e’라고 한 미래통합당\",\"url\":\"https://www.mimint.co.kr/article/board_view.asp?strBoardID=news\\u0026bbstype=S1N10\\u0026bidx=2159059\\u0026page=1\\u0026pageblock=1\"},{\"contents\":\"코너입니다. 출근길 5분만 투자하세요. 하루의 이슈가 한눈에 들어옵니다. ◇이스라엘 성지순례, \\u003cb\\u003e코로나\\u003c/b\\u003e19 확산 우려로 한국인 입국 금지 이스라엘 정부가 \\u003cb\\u003e코로나\\u003c/b\\u003e19에 대한 우려로 한국인 관광객들의 입국을 금지...\",\"datetime\":\"2020-02-24T00:00:00.000+09:00\",\"title\":\"이스라엘 성지순례, 한국인 입국 금지·부산시청 \\u003cb\\u003e코로나\\u003c/b\\u003e19 확진자 동선 공개·롯데백화점 영등포점 휴점...\",\"url\":\"https://www.mimint.co.kr/article/board_view.asp?strBoardID=news\\u0026bbstype=S1N12\\u0026bidx=2154429\\u0026page=1\\u0026pageblock=1\"},{\"contents\":\"부산시가 24일 부산 6번째~16번째 \\u003cb\\u003e코로나\\u003c/b\\u003e19 확진환자의 이동경로(동선)를 공개했다. 직원이 감염된 노인요양병원은 환자들을 완전 격리하는 코호트에 들어갔다. 확진환자들이 대형병원 등 다중밀접시설에 들른 것...\",\"datetime\":\"2020-02-24T18:03:53.000+09:00\",\"title\":\"부산시가 추가로 공개한 신종 \\u003cb\\u003e코로나\\u003c/b\\u003e 확진자 10명의 구체적 동선\",\"url\":\"https://www.huffingtonpost.kr/entry/corona-virus-busan-church_kr_5e5334dcc5b629695f5c6eee?utm_hp_ref=kr-homepage\"},{\"contents\":\"문재인 대통령이 25일 대구 서구 대구의료원을 방문해 신종 \\u003cb\\u003e코로나\\u003c/b\\u003e바이러스 감염증(\\u003cb\\u003e코로나\\u003c/b\\u003e 19) 대응 현장점검을 마친 뒤 발걸음을 돌리고 있다. 2020.02.25.ⓒ뉴시스 문재인 대통령이 25일 \\u003cb\\u003e코로나\\u003c/b\\u003e19(신종 \\u003cb\\u003e코로나\\u003c/b\\u003e...\",\"datetime\":\"2020-02-25T19:22:32.000+09:00\",\"title\":\"대구 \\u003cb\\u003e코로나\\u003c/b\\u003e19 현장 점검한 문 대통령 “정부 믿고 함께 가자”\",\"url\":\"https://www.vop.co.kr/A00001470751.html\"},{\"contents\":\"\\u003cb\\u003e코로나\\u003c/b\\u003e19 사망자 9명 \\u0026#39;비대면 모빌리티 서비스\\u0026#39; 증가 바이러스 최초 예측은 알고리즘 기반 의료 AI 플랫폼 IoT·빅데이터·자율주행 등 \\u003cb\\u003e코로나\\u003c/b\\u003e19 이후 급성장할 것 지난 19일 청도대남병원에서 연고지 없이...\",\"datetime\":\"2020-02-25T15:53:00.000+09:00\",\"title\":\"[\\u003cb\\u003e코로나\\u003c/b\\u003e19] 추가 확산 방지 위한 \\u0026#34;5가지 IT 기술\\u0026#34;\",\"url\":\"https://www.e4ds.com/sub_view.asp?ch=31\\u0026t=0\\u0026idx=11333\"},{\"contents\":\"최근 중국인 입국을 금지해야 한다는 청와대 국민청원이 76만여 명의 동의를 받고 마감됐다 출처: EPA, \\u003cb\\u003e코로나\\u003c/b\\u003e 위기경보가 \\u0026#39;심각\\u0026#39;으로 격상됐다. 전국 모든 유치원과 초중고교 개학이 일주일 연기됐고 주가 조치...\",\"datetime\":\"2020-02-24T12:04:17.000+09:00\",\"title\":\"[BBC News | 코리아] \\u003cb\\u003e코로나\\u003c/b\\u003e19: 재택 근무, 중국인 입국 금지...신종 \\u003cb\\u003e코로나\\u003c/b\\u003e 대응에 대한 4가지 사실...\",\"url\":\"https://1boon.kakao.com/bbcnews/20200224040207786\"},{\"contents\":\"가나다라마바사 가나다라마바사 가나다라마바사 가나다라마바사 가나다라마바사 HOME Money 소비•재테크 \\u003cb\\u003e코로나\\u003c/b\\u003e 공포에 ‘온라인’ 구매↑...통큰 할인, 카드로 받아보자 장하은 기자 승인 2020.02.06 17:27...\",\"datetime\":\"2020-02-25T17:54:59.000+09:00\",\"title\":\"\\u003cb\\u003e코로나\\u003c/b\\u003e 공포에 ‘온라인’ 구매↑...통큰 할인, 카드로 받아보자\",\"url\":\"http://www.whitepaper.co.kr/news/articleView.html?idxno=188773\"},{\"contents\":\"적용된다. 각 지방정부는 별도의 통지를 통해 조업 재개일을 연장했으며 다롄시 정부는 \\u0026lt;다롄시 \\u003cb\\u003e코로나\\u003c/b\\u003e19 방역지휘부 제3호령(大连市新型冠状病毒感染的肺炎疫情防控指挥部令(第3号)\\u0026gt;을 통해 2월 9일까지 업무...\",\"datetime\":\"2020-02-24T00:00:00.000+09:00\",\"title\":\"[기고] \\u003cb\\u003e코로나\\u003c/b\\u003e19, 다롄 진출기업이 문의하는 주요 Q\\u0026amp;A\",\"url\":\"http://news.kotra.or.kr/user/globalAllBbs/kotranews/album/2/globalBbsDataAllView.do?dataIdx=180326\\u0026column=\\u0026search=\\u0026searchAreaCd=\\u0026searchNationCd=\\u0026searchTradeCd=\\u0026searchStartDate=\\u0026searchEndDate=\\u0026searchCategoryIdxs=\\u0026searchIndustryCateIdx=\\u0026searchItemName=\\u0026searchItemCode=\\u0026page=1\\u0026row=10\"}],\"meta\":{\"dup_count\":531,\"is_end\":false,\"pageable_count\":469,\"total_count\":1490163}}\n",
      "\n"
     ]
    }
   ],
   "source": [
    "##카카오 API 검색해보기\n",
    "addr = \"https://dapi.kakao.com/v2/search/web\"\n",
    "params = {'query':'코로나'}\n",
    "headers = {'Authorization':'KakaoAK e6901febcd85d42b531c1a5e6d70d9ee'}\n",
    "resp = req.get(addr, params=params, headers=headers)\n",
    "print(resp.text)"
   ]
  },
  {
   "cell_type": "markdown",
   "metadata": {},
   "source": [
    "<h2>이미지를 다운로드 받아서 파일로 만들기</h2>"
   ]
  },
  {
   "cell_type": "code",
   "execution_count": 2,
   "metadata": {},
   "outputs": [
    {
     "ename": "NameError",
     "evalue": "name 'req' is not defined",
     "output_type": "error",
     "traceback": [
      "\u001b[1;31m---------------------------------------------------------------------------\u001b[0m",
      "\u001b[1;31mNameError\u001b[0m                                 Traceback (most recent call last)",
      "\u001b[1;32m<ipython-input-2-efc3d41b45a9>\u001b[0m in \u001b[0;36m<module>\u001b[1;34m\u001b[0m\n\u001b[0;32m      1\u001b[0m \u001b[1;31m#1. 이미지 url을 입력한다\u001b[0m\u001b[1;33m\u001b[0m\u001b[1;33m\u001b[0m\u001b[1;33m\u001b[0m\u001b[0m\n\u001b[0;32m      2\u001b[0m \u001b[0mimgurl\u001b[0m \u001b[1;33m=\u001b[0m \u001b[1;34m\"https://cdn.clien.net/web/api/file/F01/8407167/1176393154cc52.jpg\"\u001b[0m\u001b[1;33m\u001b[0m\u001b[1;33m\u001b[0m\u001b[0m\n\u001b[1;32m----> 3\u001b[1;33m \u001b[0mresp\u001b[0m \u001b[1;33m=\u001b[0m \u001b[0mreq\u001b[0m\u001b[1;33m.\u001b[0m\u001b[0mget\u001b[0m\u001b[1;33m(\u001b[0m\u001b[0mimgurl\u001b[0m\u001b[1;33m)\u001b[0m \u001b[1;31m#2. get으로 imgurl을 불러와서 resp 객체에 담아주기\u001b[0m\u001b[1;33m\u001b[0m\u001b[1;33m\u001b[0m\u001b[0m\n\u001b[0m\u001b[0;32m      4\u001b[0m \u001b[1;31m#print(resp.content) #3. resp로 content 메소드 호출\u001b[0m\u001b[1;33m\u001b[0m\u001b[1;33m\u001b[0m\u001b[1;33m\u001b[0m\u001b[0m\n\u001b[0;32m      5\u001b[0m \u001b[1;31m#-- 파일로 저장할 필요 없으면 여기까지면 돼!!! -- #\u001b[0m\u001b[1;33m\u001b[0m\u001b[1;33m\u001b[0m\u001b[1;33m\u001b[0m\u001b[0m\n",
      "\u001b[1;31mNameError\u001b[0m: name 'req' is not defined"
     ]
    }
   ],
   "source": [
    "#1. 이미지 url을 입력한다\n",
    "imgurl = \"https://cdn.clien.net/web/api/file/F01/8407167/1176393154cc52.jpg\"\n",
    "resp = req.get(imgurl) #2. get으로 imgurl을 불러와서 resp 객체에 담아주기\n",
    "#print(resp.content) #3. resp로 content 메소드 호출\n",
    "#-- 파일로 저장할 필요 없으면 여기까지면 돼!!! -- #\n",
    "\n",
    "# 4. 파일로 저장해서 사용해야 하면 with open으로 어떤 식으로 저장할지 명령어 넣어주기\n",
    "with open('0226.jpg', 'wb') as f:\n",
    "    f.write(resp.content) #write에다가 content 넣어주기\n",
    "    \n",
    "# cf. 현재 작업 디렉토리 확인해보기\n",
    "import os\n",
    "print(os.getcwd())"
   ]
  },
  {
   "cell_type": "code",
   "execution_count": null,
   "metadata": {},
   "outputs": [],
   "source": []
  }
 ],
 "metadata": {
  "kernelspec": {
   "display_name": "Python 3",
   "language": "python",
   "name": "python3"
  },
  "language_info": {
   "codemirror_mode": {
    "name": "ipython",
    "version": 3
   },
   "file_extension": ".py",
   "mimetype": "text/x-python",
   "name": "python",
   "nbconvert_exporter": "python",
   "pygments_lexer": "ipython3",
   "version": "3.7.4"
  }
 },
 "nbformat": 4,
 "nbformat_minor": 2
}
