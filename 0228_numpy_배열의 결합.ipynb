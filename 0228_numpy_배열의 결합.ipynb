{
 "cells": [
  {
   "cell_type": "markdown",
   "metadata": {},
   "source": [
    "# 배열의 결합"
   ]
  },
  {
   "cell_type": "code",
   "execution_count": 8,
   "metadata": {},
   "outputs": [
    {
     "name": "stdout",
     "output_type": "stream",
     "text": [
      "horizontal stack\n",
      "[[  1.   2.   3.   4. 101. 102. 103. 104.]\n",
      " [  5.   6.   7.   8. 105. 106. 107. 108.]\n",
      " [  9.  10.  11.  12. 109. 110. 111. 112.]]\n",
      "vertical stack\n",
      "[[  1.   2.   3.   4.]\n",
      " [  5.   6.   7.   8.]\n",
      " [  9.  10.  11.  12.]\n",
      " [101. 102. 103. 104.]\n",
      " [105. 106. 107. 108.]\n",
      " [109. 110. 111. 112.]]\n"
     ]
    }
   ],
   "source": [
    "import numpy as np\n",
    "\n",
    "#1. 일련 번호 형태로 배열 만들기\n",
    "ar = np.arange(1,13)\n",
    "\n",
    "#2. 3행 4열로 바꾸어보기\n",
    "ar = ar.reshape(3,4)\n",
    "\n",
    "#일정한 간격을 가지고 만들기\n",
    "br = np.linspace(101,112, num=12)\n",
    "br = br.reshape(3,4)\n",
    "\n",
    "#3. 행방향으로 합치기\n",
    "print(\"horizontal stack\")\n",
    "print(np.hstack([ar,br]))\n",
    "\n",
    "#4. 열 방향으로 합치기\n",
    "print(\"vertical stack\")\n",
    "print(np.vstack([ar,br]))"
   ]
  }
 ],
 "metadata": {
  "kernelspec": {
   "display_name": "Python 3",
   "language": "python",
   "name": "python3"
  },
  "language_info": {
   "codemirror_mode": {
    "name": "ipython",
    "version": 3
   },
   "file_extension": ".py",
   "mimetype": "text/x-python",
   "name": "python",
   "nbconvert_exporter": "python",
   "pygments_lexer": "ipython3",
   "version": "3.7.4"
  }
 },
 "nbformat": 4,
 "nbformat_minor": 2
}
