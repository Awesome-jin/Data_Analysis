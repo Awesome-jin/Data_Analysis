{
 "cells": [
  {
   "cell_type": "markdown",
   "metadata": {},
   "source": [
    "### 평균 구하기"
   ]
  },
  {
   "cell_type": "code",
   "execution_count": 5,
   "metadata": {},
   "outputs": [],
   "source": [
    "#기본 패키지 세팅 ~머신러닝까지 (복붙하고 시작하기)   ======================================================\n",
    "\n",
    "import numpy as np #수치연산, 선형대수, ndarray라는 자료 구조를 가진 패키지\n",
    "import pandas as pd #Series, DF 자료구조, 기술통계, 간단한 시각화를 가진 패키지\n",
    "import seaborn as sns #샘플데이터와 시각화\n",
    "import matplotlib.pyplot as plt #그래프 그리기 패키지\n",
    "#그래프의 음수 사용을 위한 설정\n",
    "plt.rcParams['axes.unicode_minus'] = False\n",
    "\n",
    "#그래프 한글처리 패키지\n",
    "from matplotlib import font_manager, rc\n",
    "import platform\n",
    "if platform.system() == 'Windows': #윈도우즈라면\n",
    "    font_name = font_manager.FontProperties(fname='c:/windows/Fonts/malgun.ttf').get_name()\n",
    "    rc('font', family=font_name)\n",
    "elif platform.system() == 'Darwin': #매킨토시(MacOS)라면\n",
    "    rc('font', family='AppleGothic')\n",
    "\n",
    "from sklearn import preprocessing #데이터 전처리 패키지\n",
    "#sklearn : 데이터셋, 전처리, 머신러닝용 패키지\n",
    "\n",
    "#지도 시각화 패키지\n",
    "import folium\n",
    "\n",
    "#수학 관련 패키지\n",
    "import math"
   ]
  },
  {
   "cell_type": "code",
   "execution_count": 12,
   "metadata": {},
   "outputs": [
    {
     "data": {
      "text/plain": [
       "EWM [com=0.5,min_periods=0,adjust=True,ignore_na=False,axis=0]"
      ]
     },
     "execution_count": 12,
     "metadata": {},
     "output_type": "execute_result"
    }
   ],
   "source": [
    "s = pd.Series([10, 11, 10.78])\n",
    "\n",
    "# percent change 비율로 바꿔서 산술 평균을 구하기\n",
    "s.pct_change().mean()\n",
    "\n",
    "#기하평균 구하기\n",
    "math.sqrt((11/10)*(10.78/11))-1\n",
    "\n",
    "#조화 평균 - 동일한 거리를 100km와 60km로 달렸을때 평균은?\n",
    "(2 * 100 * 60) / (100+60)\n",
    "\n",
    "#단순이동평균\n",
    "s.rolling(window=2)\n",
    "\n",
    "#지수 이동 평균\n",
    "s.ewm(span=2)"
   ]
  },
  {
   "cell_type": "code",
   "execution_count": 25,
   "metadata": {},
   "outputs": [
    {
     "ename": "SyntaxError",
     "evalue": "invalid syntax (<ipython-input-25-0c1b22824fe5>, line 7)",
     "output_type": "error",
     "traceback": [
      "\u001b[1;36m  File \u001b[1;32m\"<ipython-input-25-0c1b22824fe5>\"\u001b[1;36m, line \u001b[1;32m7\u001b[0m\n\u001b[1;33m    df=df[(df['gender]==1)|(df['gender']==2)]\u001b[0m\n\u001b[1;37m                                     ^\u001b[0m\n\u001b[1;31mSyntaxError\u001b[0m\u001b[1;31m:\u001b[0m invalid syntax\n"
     ]
    }
   ],
   "source": [
    "df = pd.read_csv('./data/descriptive.csv')\n",
    "df.info()\n",
    "df.describe()\n",
    "\n",
    "df['gender'].value_counts().plot.bar(color='blue') #범주 값에 해당하지 않는 이상한게 나왔다! 제거하자!\n",
    "\n",
    "df=df[(df['gender]==1)|(df['gender']==2)]\n",
    "df"
   ]
  },
  {
   "cell_type": "markdown",
   "metadata": {},
   "source": [
    "### 무선화"
   ]
  },
  {
   "cell_type": "code",
   "execution_count": 62,
   "metadata": {},
   "outputs": [
    {
     "data": {
      "text/plain": [
       "array([7, 1, 3])"
      ]
     },
     "execution_count": 62,
     "metadata": {},
     "output_type": "execute_result"
    }
   ],
   "source": [
    "import random\n",
    "\n",
    "li = list(range(1,49,1))\n",
    "li\n",
    "\n",
    "random.shuffle(li)\n",
    "li\n",
    "\n",
    "random.sample(li, k=6) #파이썬에선 range를 잡고 여기서 6개만 입력하면 로또 끝.\n",
    "\n",
    "li = ['두산','SK','넥센','KT'] \n",
    "np.random.choice(li,4) #동일한 비율로 추출하기\n",
    "np.random.choice(li, 4, p=[0.5,0.05,0.05,0.4])\n",
    "\n",
    "\n",
    "X = np.arange(20).reshape(10,2)\n",
    "X\n",
    "\n",
    "y = np.arange(10)\n",
    "y\n",
    "\n",
    "#층화 무작위 추출\n",
    "z = [0,0,0,1,1,1,1,1,1,1]\n",
    "\n",
    "from sklearn.model_selection import train_test_split\n",
    "X_train, X_test, y_train, y_test = train_test_split(X,y, test_size=0.3, random_state=1005, stratify=z)\n",
    "X_train\n",
    "X_test\n",
    "y_train\n",
    "y_test"
   ]
  },
  {
   "cell_type": "markdown",
   "metadata": {},
   "source": [
    "### test 데이터 비율 조정 ★"
   ]
  },
  {
   "cell_type": "code",
   "execution_count": 51,
   "metadata": {},
   "outputs": [
    {
     "data": {
      "text/plain": [
       "array([7, 8, 9])"
      ]
     },
     "execution_count": 51,
     "metadata": {},
     "output_type": "execute_result"
    }
   ],
   "source": [
    "from sklearn.model_selection import train_test_split\n",
    "X_train, X_test, y_train, y_test = train_test_split(X,y, test_size=0.3, shuffle=False, random_state=1004)\n",
    "X_train\n",
    "X_test\n",
    "y_train\n",
    "y_test"
   ]
  }
 ],
 "metadata": {
  "kernelspec": {
   "display_name": "Python 3",
   "language": "python",
   "name": "python3"
  },
  "language_info": {
   "codemirror_mode": {
    "name": "ipython",
    "version": 3
   },
   "file_extension": ".py",
   "mimetype": "text/x-python",
   "name": "python",
   "nbconvert_exporter": "python",
   "pygments_lexer": "ipython3",
   "version": "3.7.4"
  }
 },
 "nbformat": 4,
 "nbformat_minor": 2
}
