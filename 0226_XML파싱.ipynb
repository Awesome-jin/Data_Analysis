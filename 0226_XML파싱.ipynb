{
 "cells": [
  {
   "cell_type": "markdown",
   "metadata": {},
   "source": [
    "# XML 파싱"
   ]
  },
  {
   "cell_type": "code",
   "execution_count": 18,
   "metadata": {},
   "outputs": [
    {
     "name": "stdout",
     "output_type": "stream",
     "text": [
      "신문 구독하면? 가습기 사면? 미끼상품 된 마스크\n",
      "합계출산율 역대 최저 0.92명…올해부터 ‘인구 절벽’\n",
      "[속보] ‘코로나 3법’ 국회 통과…“입원·치료 거부하면 처벌”\n",
      "[포토] 코로나19 확산 막자…수요시위 사상 첫 온라인 생중계로\n",
      "카카오 “상습 악플러는 영원히 댓글 못 단다”\n",
      "경제 허리 키운다…정부, 4년내 중견기업 6000개로\n",
      "‘등반 준비 끝’ 안양 한라, 아이스하키 정상만 남았다\n",
      "동해안 산불로 상처 입은 망상해변에 ‘탄소상쇄 평화의 숲’ 조성\n",
      "코로나19 확산 방지 위해 드론도 동원\n",
      "모임 줄취소, 박물관은 VR 관람…‘코로나19’가 바꾼 풍경\n",
      "코로나19 감염 경주 한수원 본사도 폐쇄…핵발전소 정상 가동\n",
      "홍익표 ‘대구 봉쇄’ ‘임미리 고발’ 잇따른 실책…결국 사퇴\n",
      "하버드대 교수 “1년 내 세계인구 최대 70% 코로나19 감염”\n",
      "광주 3일째 확진 ‘0’…시민사회 “성숙한 의식으로 극복하자”\n",
      "“신천지, 12월까지 우한에서 모임 지속”\n",
      "중기부, 중소사업장 미세먼지 저감 개발 지원…마스크 포함\n",
      "중국, 자율주행차 목표시기 5년 늦췄다\n",
      "귀촌 5년차 평균 연소득 4200만원…월 생활비는 213만원\n",
      "미 질병예방센터 “코로나19 미국 내 확산은 시간문제”\n",
      "[포토] 다시 문 연 국회, 입장과 동시에 ‘발열 체크’\n",
      "소비자원 “배달앱 3사, 오배달·미배달 처리기준 미흡”\n",
      "내일부터 전국 어린이집 휴원…국민안심병원 91곳 지정\n",
      "충주 확진자, 재검사는 음성 ‘특수 사례’도…일단 치료 계속\n",
      "‘주거 활동가’ 권지웅 총선 출사표…“집 없는 사람들을 위한 정치 할 것”\n",
      "주요 은행들 예금금리 인하 본격화\n",
      "경찰, ‘집회 강행’ 전광훈 등 범투본 관계자 34명에 출석 요구\n",
      "경찰, 도심집회 금지 통고…“개최시 엄정 대응”\n",
      "[포토] 학위수여식 취소된 서울대 졸업식 풍경\n",
      "소상공인·중소기업 20만개 평가할 ‘상거래신용지수’ 나온다\n",
      "‘강원랜드 채용비리’ 염동열 총선 불출마…“정치 탄압 굴레 못 벗어”\n"
     ]
    }
   ],
   "source": [
    "#http://www.hani.co.kr/rss/에서 item 태그의 title만 추출\n",
    "\n",
    "#데이터 가져오기\n",
    "import requests as req\n",
    "resp = req.get('http://www.hani.co.kr/rss/')\n",
    "text = resp.text\n",
    "#print(text)\n",
    "\n",
    "import bs4\n",
    "#트리로 펼쳐내기\n",
    "bs = bs4.BeautifulSoup(text, 'lxml-xml')\n",
    "\n",
    "items = bs.find_all('item')\n",
    "#print(items)\n",
    "for item in items:\n",
    "    title = item.find('title')\n",
    "    print(title.getText())"
   ]
  }
 ],
 "metadata": {
  "kernelspec": {
   "display_name": "Python 3",
   "language": "python",
   "name": "python3"
  },
  "language_info": {
   "codemirror_mode": {
    "name": "ipython",
    "version": 3
   },
   "file_extension": ".py",
   "mimetype": "text/x-python",
   "name": "python",
   "nbconvert_exporter": "python",
   "pygments_lexer": "ipython3",
   "version": "3.7.4"
  }
 },
 "nbformat": 4,
 "nbformat_minor": 2
}
