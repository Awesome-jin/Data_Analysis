{
 "cells": [
  {
   "cell_type": "markdown",
   "metadata": {},
   "source": [
    "# Selenium으로 크롬 실행하고 로그인하기"
   ]
  },
  {
   "cell_type": "code",
   "execution_count": null,
   "metadata": {},
   "outputs": [],
   "source": [
    "#크롬 실행하기\n",
    "from selenium import webdriver\n",
    "driver = webdriver.Chrome('c:/chromedriver.exe')\n",
    "driver.implicitly_wait(3) #3초대기하기\n",
    "\n",
    "#크롬을 열고 3초 후에 카페 목록에 접근\n",
    "driver.get('http://top.cafe.daum.net/_c21_/my_cafe') #로그인 되어있지 않으면 로그인 페이지로 이동"
   ]
  },
  {
   "cell_type": "code",
   "execution_count": null,
   "metadata": {},
   "outputs": [],
   "source": [
    "#다음에 로그인을 하고 카페 목록으로 이동\n",
    "from selenium import webdriver\n",
    "driver = webdriver.Chrome('c:/chromedriver.exe')\n",
    "driver.implicitly_wait(3)\n",
    "driver.get('https://accounts.kakao.com/login?continue=https%3A%2F%2Flogins.daum.net%2Faccounts%2Fksso.do%3Frescue%3Dtrue%26url%3Dhttps%253A%252F%252Fwww.daum.net%252F')\n",
    "\n",
    "#아이디와 비밀번호를 입력 받기\n",
    "username = input('아이디를 입력하세요')\n",
    "userpw = input('비밀번호를 입력하세요')\n",
    "\n",
    "#다음 로그인 페이지의 아이디와 비밀번호 입력\n",
    "#xpath name 뭐든..\n",
    "#case1. id로 하기\n",
    "driver.find_element_by_id('id_email_2').send_keys(username)\n",
    "#case2. xpath로 한다면 이렇게\n",
    "#driver.find_element_by_xpath('//*[@id=\"loginEmailField\"]').send_keys(username)\n",
    "driver.find_element_by_id('id_password_3').send_keys(userpw)\n",
    "\n",
    "#id, pw를 넣었으니까 이제 버튼을 눌러줘야 한다.\n",
    "driver.find_element_by_xpath('//*[@id=\"login-form\"]/fieldset/div[8]/button').click()\n",
    "driver.implicitly_wait(2) #너무 빨리 눌러버리니까 로그인 처리가 안돼 >> 텀을 좀 주자\n",
    "driver.get('http://top.cafe.daum.net/_c21_/my_cafe')\n",
    "\n",
    "#접속한 사이트의 html가져오기\n",
    "html=driver.page_source\n",
    "\n",
    "#카페까지 접속 \n",
    "driver.find_element_by_xpath('//*[@id=\"mArticle\"]/div/div[2]/div[2]/ul/li/div[1]/a/div[2]/div/div/div[1]').click()\n",
    "\n",
    "#특정 프레임으로 가기\n",
    "driver.switch_to_frame('leftmenu')\n",
    "driver.implicitly_wait(1)\n",
    "\n",
    "#채팅창 검색 텍스트필드에 검색어 넣어보고 검색하기\n",
    "driver.find_element_by_xpath('//*[@id=\"txtCafeOnSearch\"]]').send_keys('양준일')\n",
    "driver.implicitly_wait(1)\n",
    "driver.find_element_by_xpath('//*[@id=\"btnCafeOnSearch\"]').click()\n",
    "\n",
    "#특정 아이프레임 코드 찾아오기\n",
    "#frames = driver.find_element_by_css_selector('iframe')\n",
    "#for frame in frames:\n",
    "#    print(frame.get_attribute('name'))"
   ]
  }
 ],
 "metadata": {
  "kernelspec": {
   "display_name": "Python 3",
   "language": "python",
   "name": "python3"
  },
  "language_info": {
   "codemirror_mode": {
    "name": "ipython",
    "version": 3
   },
   "file_extension": ".py",
   "mimetype": "text/x-python",
   "name": "python",
   "nbconvert_exporter": "python",
   "pygments_lexer": "ipython3",
   "version": "3.7.4"
  }
 },
 "nbformat": 4,
 "nbformat_minor": 2
}
