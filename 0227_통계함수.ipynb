{
 "cells": [
  {
   "cell_type": "markdown",
   "metadata": {},
   "source": [
    "# 기본 통계함수"
   ]
  },
  {
   "cell_type": "code",
   "execution_count": 6,
   "metadata": {},
   "outputs": [
    {
     "name": "stdout",
     "output_type": "stream",
     "text": [
      "[[1 2 3]\n",
      " [4 5 6]\n",
      " [7 8 9]]\n",
      "단순 전체 합계: 45\n",
      "열 단위 합계: [12 15 18]\n",
      "행 단위 합계: [ 6 15 24]\n"
     ]
    }
   ],
   "source": [
    "import numpy as np\n",
    "\n",
    "#1. 3*3으로 된 2차원 배열 생성\n",
    "ar = np.arange(1,10)\n",
    "ar = ar.reshape(3,3)\n",
    "print(ar)\n",
    "\n",
    "#2. 모든 데이터를 더한 연산\n",
    "print(\"단순 전체 합계:\", np.sum(ar))\n",
    "\n",
    "#3. ★행 단위 열단위 연산\n",
    "print(\"열 단위 합계:\", np.sum(ar, axis=0))\n",
    "print(\"행 단위 합계:\", np.sum(ar, axis=1))\n",
    "\n"
   ]
  },
  {
   "cell_type": "markdown",
   "metadata": {},
   "source": [
    "# 배열 통계"
   ]
  },
  {
   "cell_type": "code",
   "execution_count": 10,
   "metadata": {},
   "outputs": [
    {
     "name": "stdout",
     "output_type": "stream",
     "text": [
      "[100 200 301 401]\n"
     ]
    }
   ],
   "source": [
    "ar = np.array([100,200,300,400])\n",
    "br = np.array([101,201,301,401])\n",
    "cond = np.array([True, True, False, False])\n",
    "\n",
    "#cond의 값이 True이면 ar에서 false이면 br에서 추출\n",
    "result = np.where(cond, ar, br)\n",
    "print(result)"
   ]
  },
  {
   "cell_type": "markdown",
   "metadata": {},
   "source": [
    "# 배열 sorting"
   ]
  },
  {
   "cell_type": "code",
   "execution_count": 24,
   "metadata": {},
   "outputs": [
    {
     "name": "stdout",
     "output_type": "stream",
     "text": [
      "sort를 한 결과: [ 50 130 210 300 400 500]\n",
      "br [[300 210 130]\n",
      " [400 500  50]]\n",
      "[[300 210  50]\n",
      " [400 500 130]]\n"
     ]
    }
   ],
   "source": [
    "ar = np.array([300,210,130,400, 500, 50])\n",
    "result = np.sort(ar)\n",
    "print(\"sort를 한 결과:\",result)\n",
    "\n",
    "br = ar.reshape(2,3)\n",
    "print(\"br\", br)\n",
    "br.sort(axis=0) #R과 방향이 반대니까 혼동하지 말기!\n",
    "print(br)"
   ]
  }
 ],
 "metadata": {
  "kernelspec": {
   "display_name": "Python 3",
   "language": "python",
   "name": "python3"
  },
  "language_info": {
   "codemirror_mode": {
    "name": "ipython",
    "version": 3
   },
   "file_extension": ".py",
   "mimetype": "text/x-python",
   "name": "python",
   "nbconvert_exporter": "python",
   "pygments_lexer": "ipython3",
   "version": "3.7.4"
  }
 },
 "nbformat": 4,
 "nbformat_minor": 2
}
