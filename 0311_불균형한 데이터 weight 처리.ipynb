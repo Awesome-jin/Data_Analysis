{
 "cells": [
  {
   "cell_type": "markdown",
   "metadata": {},
   "source": [
    "### 불균형한 클래스의 데이터를 가지고 분석 - 랜덤포레스트 이용"
   ]
  },
  {
   "cell_type": "code",
   "execution_count": 19,
   "metadata": {},
   "outputs": [
    {
     "name": "stdout",
     "output_type": "stream",
     "text": [
      "(array([0, 1, 2, 3, 4, 5, 6, 7, 8, 9], dtype=int64),)\n",
      "1\n",
      "90\n"
     ]
    },
    {
     "data": {
      "text/plain": [
       "array([0, 0, 0, 0, 0, 0, 0, 0, 0, 0, 1])"
      ]
     },
     "execution_count": 19,
     "metadata": {},
     "output_type": "execute_result"
    }
   ],
   "source": [
    "import numpy as np\n",
    "import pandas as pd\n",
    "\n",
    "#1. 0이 10개고 1이 90개인 ndarray를 만들어보자\n",
    "list1 = []\n",
    "for i in range(0,10,1):\n",
    "    list1.append(0)\n",
    "\n",
    "list2 = []\n",
    "for i in range(0,90,1):\n",
    "    list2.append(1)\n",
    "\n",
    "\n",
    "#2. 2개의 list를 가지고 하나의 array 생성\n",
    "target = np.array(list1+list2) #주의! python에서 list1+list2는 리스트의 결합이지 브로드캐스트 연산이 아니다.\n",
    "\n",
    "#3. 분류 알고리즘에 위의 데이터를 이용하는 경우?\n",
    "#현재 0은 10% 1은 90%인 상태\n",
    "\n",
    "#4. 랜덤 포레스트 사용하기\n",
    "from sklearn.ensemble import RandomForestClassifier\n",
    "\n",
    "#4-1. 데이터의 비율이 현저하게 다르니까 가중치를 설정\n",
    "weights = {0:.9, 1:.1} #기존 비율과 반대로 써주면 됨 ==> 0은 90% . 1은 10%\n",
    "\n",
    "#랜덤포레스트 매개변수 참고\n",
    "\"\"\"RandomForestClassifier(bootstrap=True, class_weight='balanced',\n",
    "                       criterion='gini', max_depth=None, max_features='auto',\n",
    "                       max_leaf_nodes=None, min_impurity_decrease=0.0,\n",
    "                       min_impurity_split=None, min_samples_leaf=1,\n",
    "                       min_samples_split=2, min_weight_fraction_leaf=0.0,\n",
    "                       n_estimators='warn', n_jobs=None, oob_score=False,\n",
    "                       random_state=None, verbose=0, warm_start=False)\"\"\"\n",
    "\n",
    "rfc = RandomForestClassifier(class_weight=weights)\n",
    "rfc\n",
    "\n",
    "rfc = RandomForestClassifier(class_weight='balanced') #==> weight를 직접 주지 않고 분류기가 판단하도록 하는 것\n",
    "rfc"
   ]
  },
  {
   "cell_type": "markdown",
   "metadata": {},
   "source": [
    "### 샘플링 비율 조정"
   ]
  },
  {
   "cell_type": "code",
   "execution_count": 20,
   "metadata": {},
   "outputs": [
    {
     "name": "stdout",
     "output_type": "stream",
     "text": [
      "[0 1 2 3 4 5 6 7 8 9]\n",
      "10\n",
      "90\n"
     ]
    },
    {
     "data": {
      "text/plain": [
       "array([0, 0, 0, 0, 0, 0, 0, 0, 0, 0, 1, 1, 1, 1, 1, 1, 1, 1, 1, 1])"
      ]
     },
     "execution_count": 20,
     "metadata": {},
     "output_type": "execute_result"
    }
   ],
   "source": [
    "#cf..샘플링 비율 조정 (이런 방법도 가능하다)\n",
    "class0 = np.where(target==0)[0] #np에서 특정한 조건에 맞는 데이터를 리턴 받을 때 쓰는 함수. \n",
    "#(행번호행렬, 자료형)으로 결과를 리턴\n",
    "#[0]이 있으면 행번호행렬만 리스트로 리턴됨. 빼면 array 리턴.\n",
    "class1 = np.where(target==1)[0]\n",
    "print(class0)\n",
    "print(len(class0))\n",
    "print(len(class1))\n",
    "\n",
    "#cf2... 타겟이 1인 데이터에서 타겟이 0인 데이터만큼 다운 샘플링해서 새로운 데이터 셋을 생성\n",
    "downsample = np.random.choice(class1, size=len(class0), replace=False)\n",
    "#cf2-1. class1에서 class0의 데이터 개수만큼 비복원 추출을하자.\n",
    "result = np.hstack((target[class0],target[downsample]))\n",
    "result"
   ]
  }
 ],
 "metadata": {
  "kernelspec": {
   "display_name": "Python 3",
   "language": "python",
   "name": "python3"
  },
  "language_info": {
   "codemirror_mode": {
    "name": "ipython",
    "version": 3
   },
   "file_extension": ".py",
   "mimetype": "text/x-python",
   "name": "python",
   "nbconvert_exporter": "python",
   "pygments_lexer": "ipython3",
   "version": "3.7.4"
  }
 },
 "nbformat": 4,
 "nbformat_minor": 2
}
