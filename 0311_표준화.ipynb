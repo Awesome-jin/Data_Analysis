{
 "cells": [
  {
   "cell_type": "markdown",
   "metadata": {},
   "source": [
    "### 표준화 - 표준점수와 편차값"
   ]
  },
  {
   "cell_type": "code",
   "execution_count": 49,
   "metadata": {},
   "outputs": [
    {
     "data": {
      "text/plain": [
       "<matplotlib.axes._subplots.AxesSubplot at 0x29da6202bc8>"
      ]
     },
     "execution_count": 49,
     "metadata": {},
     "output_type": "execute_result"
    },
    {
     "data": {
      "image/png": "[encoded data removed]",
      "text/plain": [
       "<Figure size 432x288 with 1 Axes>"
      ]
     },
     "metadata": {
      "needs_background": "light"
     },
     "output_type": "display_data"
    },
    {
     "data": {
      "image/png": "[encoded data removed]",
      "text/plain": [
       "<Figure size 432x288 with 1 Axes>"
      ]
     },
     "metadata": {
      "needs_background": "light"
     },
     "output_type": "display_data"
    }
   ],
   "source": [
    "import numpy as np\n",
    "import pandas as pd\n",
    "\n",
    "from matplotlib import font_manager, rc\n",
    "import platform\n",
    "\n",
    "#매킨토시의 경우\n",
    "if platform.system() == 'Darwin':\n",
    "    rc('font', family='AppleGothic')\n",
    "#윈도우의 경우\n",
    "elif platform.system() == 'Windows':\n",
    "    font_name = font_manager.FontProperties(fname=\"c:/Windows/Fonts/malgun.ttf\").get_name()\n",
    "    rc('font', family=font_name)\n",
    "\n",
    "data = pd.read_csv('./data/student.csv', index_col='이름', encoding='cp949')\n",
    "\n",
    "#1. 인덱스를 기본으로 막대 그래프 그리기\n",
    "data.plot(kind='bar')\n",
    "\n",
    "#2. 표준화 작업하기 (각 열의 평균과 표준편차 구하기)\n",
    "kormean, korstd = data['국어'].mean(), data['국어'].std()\n",
    "engmean, engstd = data['영어'].mean(), data['영어'].std()\n",
    "mathmean, mathstd = data['수학'].mean(), data['수학'].std()\n",
    "\n",
    "#3. 표준점수를 계산한 열 추가해주기\n",
    "#cf. 0이면 중간. 1.0이면 상하위 15%. 2.0이면 상하위 1.1%\n",
    "data['국어표준점수'] = (data['국어']-kormean)/korstd\n",
    "data['영어표준점수'] = (data['영어']-engmean)/engstd\n",
    "data['수학표준점수'] = (data['수학']-mathmean)/mathstd\n",
    "data\n",
    "\n",
    "#4. 편차값 계산 하기 10*표준값 + 50\n",
    "data['국어편차값'] = (data['국어표준점수']*10+50)\n",
    "data['영어편차값'] = (data['영어표준점수']*10+50)\n",
    "data['수학편차값'] = (data['수학표준점수']*10+50)\n",
    "data\n",
    "\n",
    "#5. 1번보다 표준화시킨 4번 점수로 그래프를 다시 그리는게 과목별, 과목간 비교가 쉬울것\n",
    "data[['국어편차값','영어편차값','수학편차값']].plot(kind='bar')"
   ]
  },
  {
   "cell_type": "markdown",
   "metadata": {},
   "source": [
    "### 정규화 "
   ]
  },
  {
   "cell_type": "code",
   "execution_count": 26,
   "metadata": {
    "scrolled": true
   },
   "outputs": [
    {
     "data": {
      "text/html": [
       "<div>\n",
       "<style scoped>\n",
       "    .dataframe tbody tr th:only-of-type {\n",
       "        vertical-align: middle;\n",
       "    }\n",
       "\n",
       "    .dataframe tbody tr th {\n",
       "        vertical-align: top;\n",
       "    }\n",
       "\n",
       "    .dataframe thead th {\n",
       "        text-align: right;\n",
       "    }\n",
       "</style>\n",
       "<table border=\"1\" class=\"dataframe\">\n",
       "  <thead>\n",
       "    <tr style=\"text-align: right;\">\n",
       "      <th></th>\n",
       "      <th>국어</th>\n",
       "      <th>영어</th>\n",
       "      <th>수학</th>\n",
       "      <th>국어표준점수</th>\n",
       "      <th>영어표준점수</th>\n",
       "      <th>수학표준점수</th>\n",
       "      <th>국어편차값</th>\n",
       "      <th>영어편차값</th>\n",
       "      <th>수학편차값</th>\n",
       "      <th>국어정규화1</th>\n",
       "      <th>국어정규화2</th>\n",
       "    </tr>\n",
       "    <tr>\n",
       "      <th>이름</th>\n",
       "      <th></th>\n",
       "      <th></th>\n",
       "      <th></th>\n",
       "      <th></th>\n",
       "      <th></th>\n",
       "      <th></th>\n",
       "      <th></th>\n",
       "      <th></th>\n",
       "      <th></th>\n",
       "      <th></th>\n",
       "      <th></th>\n",
       "    </tr>\n",
       "  </thead>\n",
       "  <tbody>\n",
       "    <tr>\n",
       "      <td>박지영</td>\n",
       "      <td>90</td>\n",
       "      <td>85</td>\n",
       "      <td>55</td>\n",
       "      <td>0.616320</td>\n",
       "      <td>0.554321</td>\n",
       "      <td>-0.941716</td>\n",
       "      <td>56.163201</td>\n",
       "      <td>55.543208</td>\n",
       "      <td>40.582843</td>\n",
       "      <td>0.927835</td>\n",
       "      <td>0.909091</td>\n",
       "    </tr>\n",
       "    <tr>\n",
       "      <td>김태함</td>\n",
       "      <td>70</td>\n",
       "      <td>65</td>\n",
       "      <td>80</td>\n",
       "      <td>-0.176091</td>\n",
       "      <td>-0.386979</td>\n",
       "      <td>0.399335</td>\n",
       "      <td>48.239085</td>\n",
       "      <td>46.130213</td>\n",
       "      <td>53.993351</td>\n",
       "      <td>0.721649</td>\n",
       "      <td>0.649351</td>\n",
       "    </tr>\n",
       "    <tr>\n",
       "      <td>김효섭</td>\n",
       "      <td>92</td>\n",
       "      <td>95</td>\n",
       "      <td>76</td>\n",
       "      <td>0.695561</td>\n",
       "      <td>1.024971</td>\n",
       "      <td>0.184767</td>\n",
       "      <td>56.955613</td>\n",
       "      <td>60.249706</td>\n",
       "      <td>51.847670</td>\n",
       "      <td>0.948454</td>\n",
       "      <td>0.935065</td>\n",
       "    </tr>\n",
       "    <tr>\n",
       "      <td>임경희</td>\n",
       "      <td>76</td>\n",
       "      <td>89</td>\n",
       "      <td>88</td>\n",
       "      <td>0.061632</td>\n",
       "      <td>0.742581</td>\n",
       "      <td>0.828471</td>\n",
       "      <td>50.616320</td>\n",
       "      <td>57.425807</td>\n",
       "      <td>58.284714</td>\n",
       "      <td>0.783505</td>\n",
       "      <td>0.727273</td>\n",
       "    </tr>\n",
       "    <tr>\n",
       "      <td>권혁진</td>\n",
       "      <td>97</td>\n",
       "      <td>87</td>\n",
       "      <td>83</td>\n",
       "      <td>0.893664</td>\n",
       "      <td>0.648451</td>\n",
       "      <td>0.560261</td>\n",
       "      <td>58.936642</td>\n",
       "      <td>56.484508</td>\n",
       "      <td>55.602612</td>\n",
       "      <td>1.000000</td>\n",
       "      <td>1.000000</td>\n",
       "    </tr>\n",
       "    <tr>\n",
       "      <td>하혜진</td>\n",
       "      <td>80</td>\n",
       "      <td>86</td>\n",
       "      <td>97</td>\n",
       "      <td>0.220114</td>\n",
       "      <td>0.601386</td>\n",
       "      <td>1.311250</td>\n",
       "      <td>52.201143</td>\n",
       "      <td>56.013858</td>\n",
       "      <td>63.112497</td>\n",
       "      <td>0.824742</td>\n",
       "      <td>0.779221</td>\n",
       "    </tr>\n",
       "    <tr>\n",
       "      <td>이준원</td>\n",
       "      <td>20</td>\n",
       "      <td>30</td>\n",
       "      <td>40</td>\n",
       "      <td>-2.157120</td>\n",
       "      <td>-2.034253</td>\n",
       "      <td>-1.746346</td>\n",
       "      <td>28.428796</td>\n",
       "      <td>29.657471</td>\n",
       "      <td>32.536538</td>\n",
       "      <td>0.206186</td>\n",
       "      <td>0.000000</td>\n",
       "    </tr>\n",
       "    <tr>\n",
       "      <td>윤정웅</td>\n",
       "      <td>50</td>\n",
       "      <td>52</td>\n",
       "      <td>54</td>\n",
       "      <td>-0.968503</td>\n",
       "      <td>-0.998823</td>\n",
       "      <td>-0.995358</td>\n",
       "      <td>40.314970</td>\n",
       "      <td>40.011766</td>\n",
       "      <td>40.046423</td>\n",
       "      <td>0.515464</td>\n",
       "      <td>0.389610</td>\n",
       "    </tr>\n",
       "    <tr>\n",
       "      <td>주시현</td>\n",
       "      <td>95</td>\n",
       "      <td>70</td>\n",
       "      <td>80</td>\n",
       "      <td>0.814423</td>\n",
       "      <td>-0.151654</td>\n",
       "      <td>0.399335</td>\n",
       "      <td>58.144230</td>\n",
       "      <td>48.483462</td>\n",
       "      <td>53.993351</td>\n",
       "      <td>0.979381</td>\n",
       "      <td>0.974026</td>\n",
       "    </tr>\n",
       "  </tbody>\n",
       "</table>\n",
       "</div>"
      ],
      "text/plain": [
       "     국어  영어  수학    국어표준점수    영어표준점수    수학표준점수      국어편차값      영어편차값  \\\n",
       "이름                                                                    \n",
       "박지영  90  85  55  0.616320  0.554321 -0.941716  56.163201  55.543208   \n",
       "김태함  70  65  80 -0.176091 -0.386979  0.399335  48.239085  46.130213   \n",
       "김효섭  92  95  76  0.695561  1.024971  0.184767  56.955613  60.249706   \n",
       "임경희  76  89  88  0.061632  0.742581  0.828471  50.616320  57.425807   \n",
       "권혁진  97  87  83  0.893664  0.648451  0.560261  58.936642  56.484508   \n",
       "하혜진  80  86  97  0.220114  0.601386  1.311250  52.201143  56.013858   \n",
       "이준원  20  30  40 -2.157120 -2.034253 -1.746346  28.428796  29.657471   \n",
       "윤정웅  50  52  54 -0.968503 -0.998823 -0.995358  40.314970  40.011766   \n",
       "주시현  95  70  80  0.814423 -0.151654  0.399335  58.144230  48.483462   \n",
       "\n",
       "         수학편차값    국어정규화1    국어정규화2  \n",
       "이름                                  \n",
       "박지영  40.582843  0.927835  0.909091  \n",
       "김태함  53.993351  0.721649  0.649351  \n",
       "김효섭  51.847670  0.948454  0.935065  \n",
       "임경희  58.284714  0.783505  0.727273  \n",
       "권혁진  55.602612  1.000000  1.000000  \n",
       "하혜진  63.112497  0.824742  0.779221  \n",
       "이준원  32.536538  0.206186  0.000000  \n",
       "윤정웅  40.046423  0.515464  0.389610  \n",
       "주시현  53.993351  0.979381  0.974026  "
      ]
     },
     "execution_count": 26,
     "metadata": {},
     "output_type": "execute_result"
    }
   ],
   "source": [
    "#1. 최대값으로 나누어서 값을 저장 - 정규화\n",
    "#정규화 방법 1 : 자기값을 해당 컬럼의 최대값으로 나누기\n",
    "#정규화 방법 2 : 자기 값 - 최소값 / (최대값 - 최소값)\n",
    "\n",
    "data['국어정규화1'] = data['국어']/data['국어'].max()\n",
    "data['국어정규화2'] = (data['국어']-data['국어'].min())/(data['국어'].max()-data['국어'].min())"
   ]
  },
  {
   "cell_type": "markdown",
   "metadata": {},
   "source": [
    "### 사이킷런을 이용한 Scailing"
   ]
  },
  {
   "cell_type": "code",
   "execution_count": 48,
   "metadata": {},
   "outputs": [
    {
     "name": "stdout",
     "output_type": "stream",
     "text": [
      "[[ 0.6537062 ]\n",
      " [-0.1867732 ]\n",
      " [ 0.73775414]\n",
      " [ 0.06537062]\n",
      " [ 0.94787399]\n",
      " [ 0.2334665 ]\n",
      " [-2.28797169]\n",
      " [-1.0272526 ]\n",
      " [ 0.86382605]]\n",
      "1.2335811384723961e-17\n",
      "1.0\n"
     ]
    }
   ],
   "source": [
    "from sklearn import preprocessing\n",
    "\n",
    "#하는 방법은 다 똑같고 메소드 이름만 다르다.\n",
    "scaler = preprocessing.StandardScaler() # << 이 StandardScaler대신 다른 표준화 방법 이름을 갖다 넣음 된다.\n",
    "\n",
    "result = scaler.fit_transform(data[['국어']].values)\n",
    "#왜 대괄호가 두개인가???\n",
    "# >> 머신러닝의 데이터들은 모두 array를 이용하는데, data['국어']는 1차원 데이터가 된다. \n",
    "\n",
    "print(result) #표준화 값을 구한 것\n",
    "print(np.mean(result)) #0인지 확인\n",
    "print(np.std(result)) #1인지 확인"
   ]
  },
  {
   "cell_type": "markdown",
   "metadata": {},
   "source": [
    "### 거리행렬을 이용한 표준화 - 유클리드, 맨하튼, 최대값"
   ]
  },
  {
   "cell_type": "code",
   "execution_count": 56,
   "metadata": {
    "scrolled": true
   },
   "outputs": [
    {
     "name": "stdout",
     "output_type": "stream",
     "text": [
      "[[0.72701315 0.68662353]\n",
      " [0.73279349 0.6804511 ]\n",
      " [0.6956733  0.7183583 ]\n",
      " [0.64938292 0.76046158]\n",
      " [0.74443789 0.66769172]\n",
      " [0.68110394 0.73218674]\n",
      " [0.5547002  0.83205029]\n",
      " [0.69310872 0.72083306]\n",
      " [0.80505584 0.59319904]]\n",
      "[[0.51428571 0.48571429]\n",
      " [0.51851852 0.48148148]\n",
      " [0.49197861 0.50802139]\n",
      " [0.46060606 0.53939394]\n",
      " [0.52717391 0.47282609]\n",
      " [0.48192771 0.51807229]\n",
      " [0.4        0.6       ]\n",
      " [0.49019608 0.50980392]\n",
      " [0.57575758 0.42424242]]\n",
      "[[1.         0.94444444]\n",
      " [1.         0.92857143]\n",
      " [0.96842105 1.        ]\n",
      " [0.85393258 1.        ]\n",
      " [1.         0.89690722]\n",
      " [0.93023256 1.        ]\n",
      " [0.66666667 1.        ]\n",
      " [0.96153846 1.        ]\n",
      " [1.         0.73684211]]\n"
     ]
    }
   ],
   "source": [
    "matrix = data[['국어','영어']].values\n",
    "matrix\n",
    "\n",
    "from sklearn import preprocessing\n",
    "\n",
    "# 유클리드 거리로 표준화 하는 객체 생성하기. 맨하튼을 쓸거면 l1. \n",
    "norm = preprocessing.Normalizer(norm='l2')\n",
    "print(norm.transform(matrix))\n",
    "\n",
    "#맨하튼 거리로 계산\n",
    "norm = preprocessing.Normalizer(norm='l1')\n",
    "print(norm.transform(matrix))\n",
    "\n",
    "#최대값으로 계산\n",
    "norm = preprocessing.Normalizer(norm='max')\n",
    "print(norm.transform(matrix))"
   ]
  },
  {
   "cell_type": "markdown",
   "metadata": {},
   "source": [
    "### 다중공선성 이슈"
   ]
  },
  {
   "cell_type": "code",
   "execution_count": 60,
   "metadata": {},
   "outputs": [
    {
     "data": {
      "text/plain": [
       "array([[9.00000e+01, 8.50000e+01, 8.10000e+03, 7.65000e+03, 7.22500e+03,\n",
       "        7.29000e+05, 6.88500e+05, 6.50250e+05, 6.14125e+05],\n",
       "       [7.00000e+01, 6.50000e+01, 4.90000e+03, 4.55000e+03, 4.22500e+03,\n",
       "        3.43000e+05, 3.18500e+05, 2.95750e+05, 2.74625e+05],\n",
       "       [9.20000e+01, 9.50000e+01, 8.46400e+03, 8.74000e+03, 9.02500e+03,\n",
       "        7.78688e+05, 8.04080e+05, 8.30300e+05, 8.57375e+05],\n",
       "       [7.60000e+01, 8.90000e+01, 5.77600e+03, 6.76400e+03, 7.92100e+03,\n",
       "        4.38976e+05, 5.14064e+05, 6.01996e+05, 7.04969e+05],\n",
       "       [9.70000e+01, 8.70000e+01, 9.40900e+03, 8.43900e+03, 7.56900e+03,\n",
       "        9.12673e+05, 8.18583e+05, 7.34193e+05, 6.58503e+05],\n",
       "       [8.00000e+01, 8.60000e+01, 6.40000e+03, 6.88000e+03, 7.39600e+03,\n",
       "        5.12000e+05, 5.50400e+05, 5.91680e+05, 6.36056e+05],\n",
       "       [2.00000e+01, 3.00000e+01, 4.00000e+02, 6.00000e+02, 9.00000e+02,\n",
       "        8.00000e+03, 1.20000e+04, 1.80000e+04, 2.70000e+04],\n",
       "       [5.00000e+01, 5.20000e+01, 2.50000e+03, 2.60000e+03, 2.70400e+03,\n",
       "        1.25000e+05, 1.30000e+05, 1.35200e+05, 1.40608e+05],\n",
       "       [9.50000e+01, 7.00000e+01, 9.02500e+03, 6.65000e+03, 4.90000e+03,\n",
       "        8.57375e+05, 6.31750e+05, 4.65500e+05, 3.43000e+05]])"
      ]
     },
     "execution_count": 60,
     "metadata": {},
     "output_type": "execute_result"
    }
   ],
   "source": [
    "polynomial = preprocessing.PolynomialFeatures(degree=2, include_bias=False)\n",
    "result = polynomial.fit_transform(matrix)\n",
    "result\n",
    "\n",
    "polynomial = preprocessing.PolynomialFeatures(degree=3, include_bias=False)\n",
    "result = polynomial.fit_transform(matrix)\n",
    "result"
   ]
  },
  {
   "cell_type": "markdown",
   "metadata": {},
   "source": [
    "### 변환"
   ]
  },
  {
   "cell_type": "code",
   "execution_count": 74,
   "metadata": {},
   "outputs": [
    {
     "name": "stdout",
     "output_type": "stream",
     "text": [
      "[[100 200]\n",
      " [300 150]]\n"
     ]
    },
    {
     "name": "stderr",
     "output_type": "stream",
     "text": [
      "C:\\ProgramData\\Anaconda3\\lib\\site-packages\\sklearn\\preprocessing\\_function_transformer.py:97: FutureWarning: The default validate=True will be replaced by validate=False in 0.22.\n",
      "  \"validate=False in 0.22.\", FutureWarning)\n"
     ]
    },
    {
     "data": {
      "text/plain": [
       "array([[200, 300],\n",
       "       [400, 250]])"
      ]
     },
     "execution_count": 74,
     "metadata": {},
     "output_type": "execute_result"
    }
   ],
   "source": [
    "matrix = np.array([[100,200], [300,150]])\n",
    "print(matrix)\n",
    "\n",
    "def intconvert(x):\n",
    "    return x + 100\n",
    "\n",
    "#matrix 데이터를 정수로 변환하기\n",
    "transformer = preprocessing.FunctionTransformer(intconvert)\n",
    "matrix = transformer.transform(matrix)\n",
    "matrix"
   ]
  }
 ],
 "metadata": {
  "kernelspec": {
   "display_name": "Python 3",
   "language": "python",
   "name": "python3"
  },
  "language_info": {
   "codemirror_mode": {
    "name": "ipython",
    "version": 3
   },
   "file_extension": ".py",
   "mimetype": "text/x-python",
   "name": "python",
   "nbconvert_exporter": "python",
   "pygments_lexer": "ipython3",
   "version": "3.7.4"
  }
 },
 "nbformat": 4,
 "nbformat_minor": 2
}
