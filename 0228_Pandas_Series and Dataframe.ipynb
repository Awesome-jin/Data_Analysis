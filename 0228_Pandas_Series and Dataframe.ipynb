{
 "cells": [
  {
   "cell_type": "markdown",
   "metadata": {},
   "source": [
    "# Pandas 자료구조 - Series"
   ]
  },
  {
   "cell_type": "code",
   "execution_count": 12,
   "metadata": {},
   "outputs": [
    {
     "name": "stdout",
     "output_type": "stream",
     "text": [
      "0     100\n",
      "1    1500\n",
      "2     500\n",
      "dtype: int64\n",
      "100\n",
      "0     100\n",
      "1    1500\n",
      "dtype: int64\n",
      "0    100\n",
      "2    500\n",
      "dtype: int64\n",
      "=========================================================================================\n",
      "Orange     100\n",
      "Banana    1500\n",
      "Mango      500\n",
      "dtype: int64\n",
      "\n",
      "Orange     100\n",
      "Banana    1500\n",
      "Mango      500\n",
      "dtype: int64\n"
     ]
    }
   ],
   "source": [
    "from pandas import Series, DataFrame\n",
    "import pandas as pd\n",
    "\n",
    "#1. Series 만들기\n",
    "good1 = Series([100,1500, 500]) #데이터 외에는 다 기본 값이라 인덱스는 0부터 시작하는 숫자가 붙음\n",
    "print(good1)\n",
    "\n",
    "#2. Series에 접근하기\n",
    "\n",
    "#2-1 한 개에 접근\n",
    "print(good1[0])\n",
    "\n",
    "#2-2 범위 형태로 접근\n",
    "print(good1[0:2]) \n",
    "\n",
    "#2-3. 연속 형태가 아닌 데이터 접근\n",
    "print(good1[[0,2]]) \n",
    "\n",
    "print(\"=========================================================================================\") \n",
    "\n",
    "#3. good1의 default 인덱스를 직접 명명해보기\n",
    "good1.index = ['Orange', 'Banana', 'Mango']\n",
    "\n",
    "print(good1) #3-1. 인덱스가 0~2에서 직접 붙인 이름으로 바뀌었다.\n",
    "print(\"\")\n",
    "print(good1['Orange':'Mango']) #3-2. 숫자가아닌 문자 형태 인덱싱을 하면 Mango-1을 안하고 Mango행의 자료까지 나온다!!"
   ]
  },
  {
   "cell_type": "markdown",
   "metadata": {},
   "source": [
    "# Series의 연산"
   ]
  },
  {
   "cell_type": "code",
   "execution_count": 20,
   "metadata": {},
   "outputs": [
    {
     "name": "stdout",
     "output_type": "stream",
     "text": [
      "1    200\n",
      "2    300\n",
      "3    250\n",
      "dtype: int64\n",
      "1    200.0\n",
      "2    400.0\n",
      "3      NaN\n",
      "4      NaN\n",
      "dtype: float64\n"
     ]
    }
   ],
   "source": [
    "import numpy as np\n",
    "\n",
    "good1 = Series([100, 200, 150], index=[1,2,3])\n",
    "good2 = Series([100, 200, 150], index=[1,2,4])\n",
    "good3 = Series([10,None, np.nan], index = [1,2,3])\n",
    "# null을 표시하는 두 방법 : None, np.nan! >> 전처리에서 둘다 확인해야 할 듯\n",
    "\n",
    "#Series + Scalar\n",
    "print(good1+100) #모든 Series값에 100을 더해라\n",
    "\n",
    "#Series + Series\n",
    "print(good1+good2) #index 1,2는 둘다 있지만 3,4는 한쪽씩밖에 없어서 NaN(Not a number)가 출력됨"
   ]
  },
  {
   "cell_type": "markdown",
   "metadata": {},
   "source": [
    "# DataFrame 생성"
   ]
  },
  {
   "cell_type": "code",
   "execution_count": 35,
   "metadata": {},
   "outputs": [
    {
     "name": "stdout",
     "output_type": "stream",
     "text": [
      "     name   price manufacturer\n",
      "0  orange     NaN         None\n",
      "1   mango  2500.0      Vietnam\n",
      "2   apple  1000.0        Korea\n",
      "3    None  3000.0     Thailand\n",
      "4    None  4000.0        Chile\n",
      "       name   price manufacturer\n",
      "100  orange     NaN         None\n",
      "200   mango  2500.0      Vietnam\n",
      "300   apple  1000.0        Korea\n",
      "      name   price manufacturer\n",
      "300  apple  1000.0        Korea\n",
      "400   None  3000.0     Thailand\n",
      "500   None  4000.0        Chile\n",
      "<class 'pandas.core.frame.DataFrame'>\n",
      "Int64Index: 5 entries, 100 to 500\n",
      "Data columns (total 3 columns):\n",
      "name            3 non-null object\n",
      "price           4 non-null float64\n",
      "manufacturer    4 non-null object\n",
      "dtypes: float64(1), object(2)\n",
      "memory usage: 160.0+ bytes\n",
      "None\n"
     ]
    }
   ],
   "source": [
    "#1.dict를 먼저 생성하자\n",
    "items = {'name':['orange','mango','apple',None,None], 'price':[None,2500,1000,3000,4000], 'manufacturer':[None,'Vietnam','Korea','Thailand','Chile']}\n",
    "#1-1. key : value(리스트) 형태로 만들면 데이터프레임으로 생성 가능하다!\n",
    "\n",
    "#2. Dataframe을 생성한다.\n",
    "df1 = DataFrame(items) #명령어 대문자 주의!\n",
    "print(df1)\n",
    "\n",
    "#3. DataFrame의 인덱스를 바꾸기\n",
    "df1.index = np.arange(100, 600, 100) \n",
    "\n",
    "#4. ★데이터를 확인하는 작업\n",
    "print(df1.head(3))\n",
    "print(df1.tail(3))\n",
    "\n",
    "#5. ★개요를 확인하기!! --> 외부데이터 사용할 때 매우매우 중요\n",
    "print(df1.info())"
   ]
  },
  {
   "cell_type": "markdown",
   "metadata": {},
   "source": [
    "# "
   ]
  },
  {
   "cell_type": "code",
   "execution_count": null,
   "metadata": {},
   "outputs": [],
   "source": []
  }
 ],
 "metadata": {
  "kernelspec": {
   "display_name": "Python 3",
   "language": "python",
   "name": "python3"
  },
  "language_info": {
   "codemirror_mode": {
    "name": "ipython",
    "version": 3
   },
   "file_extension": ".py",
   "mimetype": "text/x-python",
   "name": "python",
   "nbconvert_exporter": "python",
   "pygments_lexer": "ipython3",
   "version": "3.7.4"
  }
 },
 "nbformat": 4,
 "nbformat_minor": 2
}
