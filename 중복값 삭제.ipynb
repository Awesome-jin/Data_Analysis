{
 "cells": [
  {
   "cell_type": "code",
   "execution_count": 28,
   "metadata": {},
   "outputs": [
    {
     "name": "stdout",
     "output_type": "stream",
     "text": [
      "<class 'pandas.core.frame.DataFrame'>\n"
     ]
    },
    {
     "data": {
      "text/plain": [
       "0"
      ]
     },
     "execution_count": 28,
     "metadata": {},
     "output_type": "execute_result"
    }
   ],
   "source": [
    "import seaborn as sns #데이터 모듈 가져오기\n",
    "\n",
    "iris = sns.load_dataset('iris')\n",
    "\n",
    "iris.head() #데이터 잘 가져왔는지 가장 먼저 확인\n",
    "iris.shape #구조 확인\n",
    "print(type(iris)) #데이터프레임으로 가져온 걸 확인 가능\n",
    "\n",
    "iris.duplicated() #중복된게 있는지 True,false로 확인하기\n",
    "iris.duplicated().sum() #중복된 값이 총 몇갠지 확인 가능\n",
    "\n",
    "iris_dup = iris.copy()\n",
    "iris.iloc[[0]]\n",
    "iris_dup.iloc[1,:] = iris.iloc[0,:] #iris_dup 데이터프레임 1번행에 iris 0번행을 똑같이 만들어주기\n",
    "\n",
    "iris_dup #0번과 1번이 완전히 똑같은거 확인 가능\n",
    "\n",
    "iris_dup.duplicated().sum() #이젠 값이 같은 행이 2개가 있다는 걸 확인 가능\n",
    "\n",
    "iris_dup.drop_duplicates(inplace=True) #중복된값 제거할때는 drop_duplicates다! 위와 메소드 명이 다르니 주의 \n",
    "iris_dup.shape\n",
    "\n",
    "iris_dup.duplicated().sum() #중복된 값이 없다는 것 확인 가능!\n",
    "\n",
    "\n",
    "\n",
    "#요약=====================================#\n",
    "\n",
    "#1.head, shape, duplicated로 dataframe의 전체적인 구조 파악하기\n",
    "#2. 중복값을 제거해야 하는 경우라면 drop_duplicates(inplace=True) 시행하기"
   ]
  },
  {
   "cell_type": "code",
   "execution_count": null,
   "metadata": {},
   "outputs": [],
   "source": []
  }
 ],
 "metadata": {
  "kernelspec": {
   "display_name": "Python 3",
   "language": "python",
   "name": "python3"
  },
  "language_info": {
   "codemirror_mode": {
    "name": "ipython",
    "version": 3
   },
   "file_extension": ".py",
   "mimetype": "text/x-python",
   "name": "python",
   "nbconvert_exporter": "python",
   "pygments_lexer": "ipython3",
   "version": "3.7.4"
  }
 },
 "nbformat": 4,
 "nbformat_minor": 2
}
