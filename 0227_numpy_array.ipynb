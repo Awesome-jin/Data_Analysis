{
 "cells": [
  {
   "cell_type": "markdown",
   "metadata": {},
   "source": [
    "# Numpy ndarray만들기"
   ]
  },
  {
   "cell_type": "code",
   "execution_count": null,
   "metadata": {},
   "outputs": [],
   "source": [
    "#작업중인 디렉토리 확인해보기\n",
    "import os\n",
    "#print(os.getcwd())\n",
    "\n",
    "#1. numpy라는 이름을 np라는 이름으로 앞으로 사용할거야\n",
    "import numpy as np\n",
    "\n",
    "#2.nparray에 list를 갖다 넣기 위한 리스트 만들기\n",
    "li = [100,200,300]\n",
    "#print(dir(li))\n",
    "ar = np.array(li)\n",
    "#print(ar)\n",
    "\n",
    "#2-1.튜플로도 가능할까?\n",
    "tu = (10,20)\n",
    "#print(dir(tu)) : 안에 __iter__가 있음\n",
    "artu = np.array(tu)\n",
    "#print(tu) \n",
    "\n",
    "#3. 2차원 배열로 만들어보기\n",
    "ar = np.array([[100,200,300], [400,500,600]])\n",
    "#print(ar)\n",
    "\n",
    "#4. 각 요소의 자료형 확인하기\n",
    "#print(ar.dtype)\n",
    "#print(ar.shape)\n",
    "\n",
    "#5. 일정한 숫자 패턴의 array 만들기\n",
    "ararange = np.arange(0, 100, 1)\n",
    "print(ararange)\n",
    "\n",
    "#6. linspace 방식\n",
    "# 마지막 숫자를 제거하려면 endpoint를 False로 설정하면 됨\n",
    "ar = np.linspace(0, 10, num=11)\n",
    "print(ar)"
   ]
  },
  {
   "cell_type": "markdown",
   "metadata": {},
   "source": [
    "# 단위 행렬 만들기 (대각선 방향의 요소만 1인 행렬)"
   ]
  },
  {
   "cell_type": "code",
   "execution_count": null,
   "metadata": {},
   "outputs": [],
   "source": [
    "# 정방 행렬 : 행과 열의 개수가 같은 행렬. (정방행렬도 단위 행렬이어야 한다)\n",
    "\n",
    "#1. 크기가 3인 단위 행렬 만들기\n",
    "ar = np.eye(3)\n",
    "print(ar)\n",
    "print(\"\")\n",
    "\n",
    "ar = np.eye(3,k=1) #k 매개변수를 1로 넣으면 1줄씩 올라감 (-1이면 한줄씩 내려감)\n",
    "print(ar) \n",
    "print(\"\")\n",
    "\n",
    "#2. 대각 요소만 뽑아서 1차원 배열을 생성\n",
    "ar = np.diag(ar)\n",
    "print(ar)\n",
    "\n",
    "#참고!!!! (R과 다른점이니 중요)\n",
    "ar1 = np.arange(0,10)\n",
    "ar2 = np.arange(0,8)\n",
    "#print (ar1+ar2) \n",
    "#R의 경우는 수가 다르면 가장 앞의 수부터 재활용해서 연산해서 길이가 더 큰 객체에 맞춰서 리턴해주지만 파이썬은 아예 안된다!"
   ]
  },
  {
   "cell_type": "markdown",
   "metadata": {},
   "source": [
    "# 희소행렬과 밀집행렬 변환"
   ]
  },
  {
   "cell_type": "code",
   "execution_count": null,
   "metadata": {},
   "outputs": [],
   "source": [
    "import numpy as np #커널 정리해서 다시 import한 것\n",
    "\n",
    "#spicy의 sparse 모듈 가져오기\n",
    "from scipy import sparse\n",
    "\n",
    "#2. 5*5 단위 행렬 만들기\n",
    "ar = np.eye(5)\n",
    "print(ar)\n",
    "print(\"\")\n",
    "\n",
    "#3. 희소행렬로 변환 해버리기 - 0이 아닌 값의 위치와 값을 저장한다\n",
    "sp = sparse.csr_matrix(ar)\n",
    "print(sp)\n",
    "print(\"\")\n",
    "\n",
    "#4. 밀집 행렬로 재변환\n",
    "ar = sp.toarray()\n",
    "print(ar)\n",
    "print(\"\")"
   ]
  },
  {
   "cell_type": "markdown",
   "metadata": {},
   "source": [
    "# 행렬의 차원 변환"
   ]
  },
  {
   "cell_type": "code",
   "execution_count": null,
   "metadata": {},
   "outputs": [],
   "source": [
    "ar = np.arange(0,10)\n",
    "print(ar) #이렇게 하면 1행으로 10개짜리 행렬이 만들어짐\n",
    "\n",
    "#reshape를 쓰면 행과 열을 매개변수로 넣어서 바꿀 수 있음\n",
    "print(ar.reshape(2,5)) #개수 안맞으면 오류남"
   ]
  },
  {
   "cell_type": "markdown",
   "metadata": {},
   "source": [
    "# 인덱싱과 copy"
   ]
  },
  {
   "cell_type": "code",
   "execution_count": null,
   "metadata": {},
   "outputs": [],
   "source": [
    "ar = np.array([100,200,300,400,500])\n",
    "\n",
    "#1. 0~1번까지 br에 대입해보기\n",
    "br = ar[0:2]\n",
    "print(\"br:\", br)\n",
    "print(\"\") #Space for a readability\n",
    "\n",
    "#2. 원본 데이터인 ar의 데이터를 바꿔보자\n",
    "ar[0] = 1\n",
    "print(\"br:\",br) #인덱싱은 링크를 전달하는 개념이기 때문에 원본만 바꿨는데도 링크가 딸려있는 br도 같이 변경됨\n",
    "print(\"\") #Space for a readability\n",
    "\n",
    "#2번과 같은 문제를 해결하려면 전달을 할때 copy를 해버리면 된다\n",
    "cr = ar[0:2].copy() \n",
    "print(\"cr:\", cr)\n",
    "print(\"\") #Space for a readability\n",
    "\n",
    "ar[0] = 1300\n",
    "print(\"br:\",br) \n",
    "print(\"cr:\",cr) #br은 ar이 바뀜과 동시에 바뀌어버리지만 복사본인 cr은 변경이 없다."
   ]
  },
  {
   "cell_type": "markdown",
   "metadata": {},
   "source": [
    "# Fancy Indexing"
   ]
  },
  {
   "cell_type": "code",
   "execution_count": null,
   "metadata": {},
   "outputs": [],
   "source": [
    "#1. garbage 값으로 배열을 생성\n",
    "ar = np.empty((10,3))\n",
    "print(ar)\n",
    "print(\"--------------------------------------------------------\")\n",
    "\n",
    "#2. 행들을 선택 \n",
    "br = ar[[0,1,3,5]] #copy 방법!\n",
    "print(br)\n",
    "print(\"ar==br?:\", ar[0,0]==br[0,0]) #ar과 br은 복사본이기 때문에 같다.\n",
    "\n",
    "#3.copy가 되었기 때문에 ar이 이제부터 바뀌어도 br의 데이터는 영향을 안받는다\n",
    "print(\"--------------------------------------------------------\")\n",
    "ar[0,0] = 90\n",
    "print(\"ar==br?:\",ar[0,0]==br[0,0])\n",
    "print(\"--------------------------------------------------------\")\n",
    "\n",
    "#4. 3,5행과 0,2열의 데이터 추출\n",
    "cr = ar[[3,5],[0,2]]\n",
    "print(\"cr:\",cr)\n",
    "dr = ar[np.ix_([3,5],[0,2])] #3,5번행 그리고 0,2번 열을 선택\n",
    "print(dr)"
   ]
  },
  {
   "cell_type": "markdown",
   "metadata": {},
   "source": [
    "# 행과 열의 순서바꾸기 - transpose()"
   ]
  },
  {
   "cell_type": "code",
   "execution_count": null,
   "metadata": {},
   "outputs": [],
   "source": [
    "#1. 배열을 먼저 만든다\n",
    "ar= np.arange(0,16)\n",
    "print(ar)\n",
    "\n",
    "#2. reshape으로 행,열 설정하고 2차원으로 변경\n",
    "br = ar.reshape(4,4)\n",
    "print(br)\n",
    "print(\"--------------------------------------------------------\")\n",
    "\n",
    "#행렬 변환 R의 byRow=T와 완전 똑같음\n",
    "print(br.T)\n",
    "print(br.transpose()) #2차원이기 때문에 T와 transpose의 결과가 완전 같다.\n",
    "\n",
    "print(\"--------------------------------------------------------\")\n",
    "\n",
    "#3차원으로 바꿔보자 이젠 결과가 다르다\n",
    "cr = ar.reshape((2,2,4)) #2행 2열 4면의 3차원 배열\n",
    "print(cr)\n",
    "\n",
    "#4,2,2로 변경\n",
    "print(cr.transpose())\n",
    "print(cr.transpose(0,2,1))"
   ]
  },
  {
   "cell_type": "markdown",
   "metadata": {},
   "source": [
    "# 함수를 이용한 배열 작업"
   ]
  },
  {
   "cell_type": "code",
   "execution_count": null,
   "metadata": {},
   "outputs": [],
   "source": [
    "#1.0에서 4까지 요소를 가진 1차원 배열 만들기\n",
    "ar = np.arange(0,5)\n",
    "\n",
    "# 2.배열을 가지고 작업할 삼수 만들기\n",
    "def plus5(x):\n",
    "    return x+5\n",
    "\n",
    "# 3. 벡터화된 함수를 생성\n",
    "vec_func = np.vectorize(plus5)\n",
    "#2의 작업 없이 3에서 람다를 이용하면 한줄로 다 만들 수 있음\n",
    "#vec_func = np.vectorize(lambda x:x+5)\n",
    "\n",
    "#4. 벡터화된 함수를 적용\n",
    "result = vec_func(ar)\n",
    "print(result)"
   ]
  },
  {
   "cell_type": "markdown",
   "metadata": {},
   "source": [
    "# 연산자 오버로딩"
   ]
  },
  {
   "cell_type": "code",
   "execution_count": null,
   "metadata": {},
   "outputs": [],
   "source": [
    "#ndarray가진 속성과 메소드 확인\n",
    "print(dir(np.ndarray)) #__add__: 더하기 가능. 등등 확인하자!"
   ]
  }
 ],
 "metadata": {
  "kernelspec": {
   "display_name": "Python 3",
   "language": "python",
   "name": "python3"
  },
  "language_info": {
   "codemirror_mode": {
    "name": "ipython",
    "version": 3
   },
   "file_extension": ".py",
   "mimetype": "text/x-python",
   "name": "python",
   "nbconvert_exporter": "python",
   "pygments_lexer": "ipython3",
   "version": "3.7.4"
  }
 },
 "nbformat": 4,
 "nbformat_minor": 2
}
