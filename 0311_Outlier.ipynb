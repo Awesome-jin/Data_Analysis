{
 "cells": [
  {
   "cell_type": "markdown",
   "metadata": {},
   "source": [
    "### outlier 처리"
   ]
  },
  {
   "cell_type": "code",
   "execution_count": 30,
   "metadata": {},
   "outputs": [
    {
     "data": {
      "text/plain": [
       "(array([0, 1, 1], dtype=int64), array([0, 3, 4], dtype=int64))"
      ]
     },
     "execution_count": 30,
     "metadata": {},
     "output_type": "execute_result"
    }
   ],
   "source": [
    "import numpy as np\n",
    "import pandas as pd\n",
    "\n",
    "#1. array를 입력 받아서 z점수(mean + - 3SD) 밖에 있는 데이터를 리턴해주는 함수 이용\n",
    "\n",
    "def z_score_outlier(ar):\n",
    "    threshold = 3\n",
    "    # 평균, 표준편차 가져오기\n",
    "    meandata = np.mean(ar)\n",
    "    stdevdata = np.std(ar)\n",
    "    z_score = [(y-meandata)/ stdevdata for y in ar]\n",
    "    return np.where(np.abs(z_score) > threshold) #절대값이 3보다 크면 리턴해라\n",
    "\n",
    "\n",
    "features = np.array([[10,20,21,13,5,12,10,20,21,13,5,12],[1000,3,5,34,2,-1000,10,20,21,13,5,12]])\n",
    "\n",
    "z_score_outlier(features)\n",
    "\n",
    "#2. Z score 보정\n",
    "\n",
    "def modify_z_score_outlier(ar):\n",
    "    threshold = 3.5\n",
    "    # 평균, 표준편차 가져오기\n",
    "    meandata = np.mean(ar)\n",
    "    stdevdata = np.std(ar)\n",
    "    z_score = [0.6875*(y-meandata)/ stdevdata for y in ar]\n",
    "    return np.where(np.abs(z_score) > threshold) #절대값이 3보다 크면 리턴해라\n",
    "\n",
    "features2 = np.array([[10,20,21,13,5,12,10,20,21,13,5,12],[1000,3,5,34,2,13,10,20,21,13,5,12]])\n",
    "z_score_outlier(features2)\n",
    "\n",
    "#3. IQR 이용 - 3사분위수 - 1사분위의 +- 1.5배 이상 차이나면 이상치로 간주\n",
    "\n",
    "def iqr_outlier(ar):\n",
    "    q1, q3 = np.percentile(ar,[25, 75])\n",
    "    # iqr 계산\n",
    "    iqr = q3 - q1\n",
    "    \n",
    "    #25%값 - 1.5*iqr\n",
    "    low = q1 - (1.5 * iqr)\n",
    "    up = q3 + (1.5 * iqr)\n",
    "    return np.where((ar>up)|(ar<low))\n",
    "    \n",
    "features3 = np.array([[-20,20,21,13,5,12,10,20,21,13,5,12],[10,3,5,44,-22,13,10,20,21,13,5,12]])\n",
    "iqr_outlier(features3)"
   ]
  },
  {
   "cell_type": "markdown",
   "metadata": {},
   "source": [
    "### outlier처리2 - 제거, 조절"
   ]
  },
  {
   "cell_type": "code",
   "execution_count": 41,
   "metadata": {},
   "outputs": [
    {
     "name": "stdout",
     "output_type": "stream",
     "text": [
      "    price  rooms  square\n",
      "0  100000      2      11\n",
      "1  200000      3      23\n",
      "2  150000      1      15\n"
     ]
    },
    {
     "data": {
      "text/html": [
       "<div>\n",
       "<style scoped>\n",
       "    .dataframe tbody tr th:only-of-type {\n",
       "        vertical-align: middle;\n",
       "    }\n",
       "\n",
       "    .dataframe tbody tr th {\n",
       "        vertical-align: top;\n",
       "    }\n",
       "\n",
       "    .dataframe thead th {\n",
       "        text-align: right;\n",
       "    }\n",
       "</style>\n",
       "<table border=\"1\" class=\"dataframe\">\n",
       "  <thead>\n",
       "    <tr style=\"text-align: right;\">\n",
       "      <th></th>\n",
       "      <th>price</th>\n",
       "      <th>rooms</th>\n",
       "      <th>square</th>\n",
       "      <th>outlier</th>\n",
       "      <th>logged_price</th>\n",
       "    </tr>\n",
       "  </thead>\n",
       "  <tbody>\n",
       "    <tr>\n",
       "      <td>0</td>\n",
       "      <td>100000</td>\n",
       "      <td>2</td>\n",
       "      <td>11</td>\n",
       "      <td>0</td>\n",
       "      <td>11.512925</td>\n",
       "    </tr>\n",
       "    <tr>\n",
       "      <td>1</td>\n",
       "      <td>200000</td>\n",
       "      <td>3</td>\n",
       "      <td>23</td>\n",
       "      <td>0</td>\n",
       "      <td>12.206073</td>\n",
       "    </tr>\n",
       "    <tr>\n",
       "      <td>2</td>\n",
       "      <td>150000</td>\n",
       "      <td>1</td>\n",
       "      <td>15</td>\n",
       "      <td>0</td>\n",
       "      <td>11.918391</td>\n",
       "    </tr>\n",
       "    <tr>\n",
       "      <td>3</td>\n",
       "      <td>1000000</td>\n",
       "      <td>100</td>\n",
       "      <td>1200</td>\n",
       "      <td>1</td>\n",
       "      <td>13.815511</td>\n",
       "    </tr>\n",
       "  </tbody>\n",
       "</table>\n",
       "</div>"
      ],
      "text/plain": [
       "     price  rooms  square  outlier  logged_price\n",
       "0   100000      2      11        0     11.512925\n",
       "1   200000      3      23        0     12.206073\n",
       "2   150000      1      15        0     11.918391\n",
       "3  1000000    100    1200        1     13.815511"
      ]
     },
     "execution_count": 41,
     "metadata": {},
     "output_type": "execute_result"
    }
   ],
   "source": [
    "house = pd.DataFrame()\n",
    "house['price'] = [100000, 200000, 150000, 1000000]\n",
    "house['rooms'] = [2, 3, 1, 100]\n",
    "house['square'] = [11, 23, 15, 1200]\n",
    "house\n",
    "\n",
    "#1. 제거하기\n",
    "print(house[house['rooms']<6])\n",
    "\n",
    "#2. 이상한 데이터를 별도로 표시해주기\n",
    "house['outlier'] = np.where(house['rooms']<6, 0, 1) #True이면 0, False이면 1을 주라는 의미\n",
    "house\n",
    "\n",
    "#3. 값의 범위를 줄이기\n",
    "house['logged_price'] = [np.log(x) for x in house['price']]\n",
    "house"
   ]
  }
 ],
 "metadata": {
  "kernelspec": {
   "display_name": "Python 3",
   "language": "python",
   "name": "python3"
  },
  "language_info": {
   "codemirror_mode": {
    "name": "ipython",
    "version": 3
   },
   "file_extension": ".py",
   "mimetype": "text/x-python",
   "name": "python",
   "nbconvert_exporter": "python",
   "pygments_lexer": "ipython3",
   "version": "3.7.4"
  }
 },
 "nbformat": 4,
 "nbformat_minor": 2
}
