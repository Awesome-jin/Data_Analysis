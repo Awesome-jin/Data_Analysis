{
 "cells": [
  {
   "cell_type": "markdown",
   "metadata": {},
   "source": [
    "# 동일한 차원의 동일한 크기 배열 연산"
   ]
  },
  {
   "cell_type": "code",
   "execution_count": 14,
   "metadata": {},
   "outputs": [
    {
     "name": "stdout",
     "output_type": "stream",
     "text": [
      "ar: [1 2 3 4 5]\n",
      "br: [100. 101. 102. 103. 104.]\n",
      "ar+br: [101. 103. 105. 107. 109.]\n",
      "[False False False False False]\n",
      "[False False False False False]\n"
     ]
    }
   ],
   "source": [
    "# 각 요소를 연산하여 동일한 크기의 배열로 리턴\n",
    "import numpy as np\n",
    "\n",
    "ar = np.arange(1,6)\n",
    "br = np.linspace(100, 105, num=5, endpoint=False)\n",
    "\n",
    "print(\"ar:\",ar)\n",
    "print(\"br:\",br)\n",
    "\n",
    "result = ar+br\n",
    "print(\"ar+br:\", ar+br) #101.은 실수 101.0을 의미 \n",
    "#정수 + 실수 => 실수로 형변환 된 것 확인가능\n",
    "\n",
    "#논리 연산\n",
    "print(ar>br) #bool자료로 변환\n",
    "result=np.logical_xor(ar,br)\n",
    "print(result)"
   ]
  },
  {
   "cell_type": "markdown",
   "metadata": {},
   "source": [
    "# 차원이 다른 배열의 연산 - Broadcast"
   ]
  },
  {
   "cell_type": "code",
   "execution_count": 21,
   "metadata": {},
   "outputs": [
    {
     "name": "stdout",
     "output_type": "stream",
     "text": [
      "[  0 100 200]\n",
      "[[1 2 3]\n",
      " [4 5 6]]\n",
      "ar+br [[101 202 303]\n",
      " [104 205 306]]\n"
     ]
    }
   ],
   "source": [
    "ar = np.array([100, 200, 300])\n",
    "\n",
    "#배열의 각 요소에서 100을 뺀 후 배열로 리턴\n",
    "result = ar-100 #배열 - scalar\n",
    "print(result)\n",
    "\n",
    "br = np.arange(1,7)\n",
    "br = br.reshape(2,3)\n",
    "print(br)\n",
    "\n",
    "print(\"ar+br\",ar+br) #행의 수가 달라도 열의 크기만 같다면 연산이 행단위로 진행된다.\n",
    "\n"
   ]
  },
  {
   "cell_type": "markdown",
   "metadata": {},
   "source": [
    "# boolean 색인"
   ]
  },
  {
   "cell_type": "code",
   "execution_count": 29,
   "metadata": {},
   "outputs": [
    {
     "name": "stdout",
     "output_type": "stream",
     "text": [
      "[ True  True False False  True]\n",
      "[100 200 294]\n"
     ]
    }
   ],
   "source": [
    "ar = np.array([100, 200, 301, 215, 294])\n",
    "print(ar%2 ==0)\n",
    "print(ar[ar%2 ==0])\n",
    "# 인덱스 자리에 boolean 결과 값이 나오는 조건을 넣으면 True인 값만 뽑아 낼 수 있다!"
   ]
  },
  {
   "cell_type": "markdown",
   "metadata": {},
   "source": [
    "# 난수 Random"
   ]
  },
  {
   "cell_type": "code",
   "execution_count": 40,
   "metadata": {},
   "outputs": [
    {
     "name": "stdout",
     "output_type": "stream",
     "text": [
      "[ 6 28 32 26 41 47  5 40 18 31  0 11 36 17 43 35 33  7 45 20 25 19 21 13\n",
      "  1  4 12 38 22 29  9 27 16 42 46 37 14 44  2 34 30 10 15 23 39  3 24  8]\n",
      "[-0.40803994 -0.10392514  1.56717879  0.49702472  1.15587233]\n"
     ]
    }
   ],
   "source": [
    "#1. 배열 만들기\n",
    "ar = np.arange(0,48)\n",
    "\n",
    "#1-1. 기존에 있는 배열을 랜덤하게 배치하기\n",
    "np.random.shuffle(ar)\n",
    "print(ar)\n",
    "\n",
    "#2. 랜덤한 다섯개 숫자를 추출\n",
    "print(np.random.normal(size=5))\n",
    "\n",
    "#3. seed를 고정해서 추출할 때 마다 동일한 방법을 만들기\n",
    "np.random.seed(seed=100) #2의 결과를 고정시켜 버림\n",
    "\n"
   ]
  }
 ],
 "metadata": {
  "kernelspec": {
   "display_name": "Python 3",
   "language": "python",
   "name": "python3"
  },
  "language_info": {
   "codemirror_mode": {
    "name": "ipython",
    "version": 3
   },
   "file_extension": ".py",
   "mimetype": "text/x-python",
   "name": "python",
   "nbconvert_exporter": "python",
   "pygments_lexer": "ipython3",
   "version": "3.7.4"
  }
 },
 "nbformat": 4,
 "nbformat_minor": 2
}
