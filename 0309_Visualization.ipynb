{
 "cells": [
  {
   "cell_type": "markdown",
   "metadata": {},
   "source": [
    "# 시계열 선 그래프"
   ]
  },
  {
   "cell_type": "code",
   "execution_count": null,
   "metadata": {
    "scrolled": false
   },
   "outputs": [],
   "source": [
    "import pandas as pd\n",
    "\n",
    "pop = pd.read_excel('C:/Users/admin/data/전출지_전입지_시도_별_이동자수_20200309092117.xlsx')\n",
    "\n",
    "pop = pop.fillna(method='ffill') #A열에서 전출지는 행 통합만 안되어있고 비어있는데 이럴 때, 앞의 값으로 채우라는 ffill을 옵션으로 준다.\n",
    "#print(pop.head())\n",
    "\n",
    "#전출지별은 서울특별시고 전입지는 서울특별시가 아닌 데이터만 추출하기 위한 조건 생성 : pop\n",
    "mask = (pop['전출지별'] == '서울특별시') & (pop['전입지별'] != '서울특별시')\n",
    "#print(pop[mask]) #서울에서 다른지역으로 이동했다는 데이터만 추출해낸것\n",
    "\n",
    "\n",
    "#전출지는 모두 서울이니까 필요가 없으므로 제거해보자 : pop, drop\n",
    "df_seoul = pop[mask].drop(['전출지별'],axis=1) #drop은 행단위 제거기 때문에 열을 제거하고자 하는 경우 axis=1 옵션이 필요하다.\n",
    "#df_seoul = df_seoul.loc[:-3]\n",
    "#df_seoul = pop[mask].drop(['순이동자수 (명)'], axis=1)\n",
    "#print(df_seoul)\n",
    "\n",
    "#전입지별 컬럼이름을 전입지로 수정 : rename\n",
    "df_seoul.rename({'전입지별':'전입지'},axis=1, inplace=True) #inplace=True를 했으므로 원본을 수정한것\n",
    "\n",
    "#인덱스를 기존 컬럼이름으로 바꾸고 현재 숫자 인덱스는 제거하기 : set_index\n",
    "df_seoul.set_index('전입지',inplace=True)\n",
    "print(df_seoul.head())\n",
    "print(\"\")\n",
    "\n",
    "#대구광역시로 전출간 인원에 대한 선 그래프 그리기\n",
    "sr_one = df_seoul.loc['대구광역시']\n",
    "\n",
    "import matplotlib.pyplot as plt\n",
    "plt.plot(sr_one.index,sr_one.values)\n",
    "\n",
    "\n",
    "#cf. 파이썬에서 그래프에 한글이 안들어가기 때문에 따로 설정을 해주어야 한다!\n",
    "# matplotlib 한글 폰트 오류 문제 해결\n",
    "from matplotlib import font_manager, rc\n",
    "import platform\n",
    "#매킨토시의 경우\n",
    "if platform.system() == 'Darwin':\n",
    "    rc('font', family='AppleGothic')\n",
    "#윈도우의 경우\n",
    "elif platform.system() == 'Windows':\n",
    "    font_name = font_manager.FontProperties(fname=\"c:/Windows/Fonts/malgun.ttf\").get_name()\n",
    "    rc('font', family=font_name)\n",
    "    \n",
    "\n",
    "#스타일 설정 : R에서 했던 ggplot을 이용\n",
    "plt.style.use('ggplot')\n",
    "#이미지 사이즈 설정 - 단위는 인치\n",
    "plt.figure(figsize=(15,10))\n",
    "\n",
    "#눈금 조정하기\n",
    "plt.xticks(size=10, rotation='vertical')\n",
    "\n",
    "#그래프를 그리기\n",
    "plt.plot(sr_one.index, sr_one.values, marker='o')\n",
    "\n",
    "#그래프제목\n",
    "plt.title('From 서울 to 대구')\n",
    "\n",
    "#축제목 만들기\n",
    "plt.xlabel('기간', size=10)\n",
    "plt.ylabel('인구이동', size=10)\n",
    "\n",
    "#legend 설정\n",
    "plt.legend(labels=['서울>대구'], loc='best', fontsize=15)\n",
    "\n",
    "#그래프 위에 글자 작성\n",
    "#plt.annotate('인구이동 감소', xy=(40,100), rotation=-11, va='baseline', ha='center', fontsize='15')\n",
    "\n",
    "plt.show()"
   ]
  },
  {
   "cell_type": "markdown",
   "metadata": {},
   "source": [
    "# subplot"
   ]
  },
  {
   "cell_type": "code",
   "execution_count": null,
   "metadata": {},
   "outputs": [],
   "source": [
    "pop = pd.read_excel('C:/Users/admin/data/시도_별_이동자수.xlsx')\n",
    "pop = pop.fillna(method='ffill') \n",
    "mask = (pop['전출지별']=='부산광역시') & (pop['전입지별']!='부산광역시')\n",
    "df_bs = pop[mask]\n",
    "print(df_bs)\n",
    "#전출지별 컬럼 제거하기\n",
    "df_bs= df_bs.drop(['전출지별'],axis=1)\n",
    "print(df_bs)\n",
    "\n",
    "df_bs = pop[mask].drop(['전출지별'],axis=1)\n",
    "\n",
    "#컬럼 이름 변경하기\n",
    "df_bs.rename({'전입지별':'전입지'},axis=1, inplace=True)\n",
    "\n",
    "#인덱스 설정\n",
    "df_bs.set_index('전입지',inplace=True)\n",
    "#print(df_bs)\n",
    "\n",
    "#부산에서 서울로 이동한 데이터만 가져오기\n",
    "sr_two = df_bs.loc['서울특별시']\n",
    "#print(sr_two.head())\n",
    "\n",
    "#여러개의 그래프를 그리기 위해 그리기 객체를 돌려 받자\n",
    "fig =plt.figure(figsize=(10,10))\n",
    "ax = fig.add_subplot(2,1,1)\n",
    "\n",
    "ax.plot(sr_two, marker='o', markersize=5, color='green', linewidth=2, label = '부산시에서 서울로 이동한 인구')\n",
    "\n",
    "#y축 범위 설정\n",
    "ax.set_ylim(10000,150000)\n",
    "\n",
    "#x축 범위 설정\n",
    "ax.set_xticklabel(sr_two.index,rotation=70)\n",
    "plt.show()"
   ]
  },
  {
   "cell_type": "markdown",
   "metadata": {},
   "source": [
    "# 막대그래프"
   ]
  },
  {
   "cell_type": "code",
   "execution_count": 49,
   "metadata": {},
   "outputs": [
    {
     "data": {
      "image/png": "[encoded data removed]",
      "text/plain": [
       "<Figure size 1080x432 with 1 Axes>"
      ]
     },
     "metadata": {
      "needs_background": "light"
     },
     "output_type": "display_data"
    }
   ],
   "source": [
    "from matplotlib import font_manager, rc\n",
    "import platform\n",
    "#매킨토시의 경우\n",
    "if platform.system() == 'Darwin':\n",
    "    rc('font', family='AppleGothic')\n",
    "#윈도우의 경우\n",
    "elif platform.system() == 'Windows':\n",
    "    font_name = font_manager.FontProperties(fname=\"c:/Windows/Fonts/malgun.ttf\").get_name()\n",
    "    rc('font', family=font_name)\n",
    "\n",
    "#plt.bar(sr_two.index, sr_two, width=1, color='r')\n",
    "\n",
    "#x축 레이블을 변경하고 싶을 때 (범위를 range로 계산을 먼저해야 함)\n",
    "#plt.xticks(range(0,len(sr_two),1),sr_two.index,rotation='vertical') \n",
    "\n",
    "#서울에서 주요 광역시로 이주 간 인원을 막대 그래프로 비교해보기\n",
    "\n",
    "import pandas as pd\n",
    "df = pd.read_excel('data/시도_별_이동자수.xlsx', header=0, fillna=0) #1,시트 읽어오기\n",
    "df = df.fillna(method='ffill') #2. 셀병합으로 1행에만 데이터가 들어있을 경우 앞의 값으로 다 채워주게 하는 것 (이거안하면 나중에 추출할 때 문제생김)\n",
    "\n",
    "#3. 필요한 부분만 추출하는 조건 만들기\n",
    "#이번 task에서는 전출지가 서울이고 전입지가 서울이 아닌 것\n",
    "mask = (df['전출지별'] == '서울특별시') & (df['전입지별'] != '서울특별시') #3-1 이러면 추출을 하는게 아니고 True, false로 결과를 저장하고 있음\n",
    "\n",
    "#3-3. True에 해당하는 값만 가져오도록 다시 객체에 할당해 주어야 한다\n",
    "df_seoul = df[mask] \n",
    "\n",
    "#4. 불필요한 부분이 있다면 제거를 해야 함 : 여기선 전출지별이 전부 서울특별시로 나오니까 굳이 필요 없어. (열제거)\n",
    "df_seoul.drop(['전출지별'],axis=1, inplace=True)\n",
    "#print(df_seoul)\n",
    "\n",
    "#cf. 만약 행을 제거해야 한다면 지금같이 인덱스 설정이 안된 경우는 일련번호로 제거하면 됨\n",
    "#df_seoul.drop([1,2,3,4,5], inplace=True) : axis=0이 기본이니까 안해도 됨\n",
    "\n",
    "#5. 기존 컬럼을 인덱스로 만들어버리기\n",
    "df_seoul.set_index(['전입지별'],inplace=True)\n",
    "#print(df_seoul)\n",
    "\n",
    "#6. task에 필요하다면 행단위로 추출하기\n",
    "sr = df_seoul.loc[['부산광역시','대구광역시','인천광역시','광주광역시','대전광역시','울산광역시']]\n",
    "#print(sr)\n",
    "\n",
    "\n",
    "#★행과 열의 위치를 바꿔야 하는 경우!!\n",
    "sr = sr.T\n",
    "\n",
    "#cf.데이터 모임에 동일한 함수를 적용한 후 결과 만들기 : map\n",
    "sr.index = sr.index.map(int)\n",
    "# 위 식은 sr.index에 int라는 함수를 각 요소마다 대입해서 실행을 하고 그 결과를 가지고 다시 데이터 모임을 만들어주는 것\n",
    "\n",
    "#7. 그래프 그리기\n",
    "import matplotlib.pyplot as plt\n",
    "plt.figure(figsize=(15,6))\n",
    "plt.bar(pd.RangeIndex(0, len(sr.index),1), sr['부산광역시'], width=0.25, label='부산')\n",
    "plt.bar(pd.RangeIndex(0, len(sr.index),1)+0.25, sr['대구광역시'], width=0.25, color='orange', label='대구')\n",
    "plt.bar(pd.RangeIndex(0, len(sr.index),1)+0.5, sr['대전광역시'], width=0.25, color='red', label='대전')\n",
    "plt.bar(pd.RangeIndex(0, len(sr.index),1)+0.75, sr['광주광역시'], width=0.25, color='gray', label='광주')\n",
    "plt.title('서울에서의 인구이동')\n",
    "plt.legend()\n",
    "plt.show()"
   ]
  },
  {
   "cell_type": "markdown",
   "metadata": {},
   "source": [
    "# 히스토그램"
   ]
  },
  {
   "cell_type": "code",
   "execution_count": 75,
   "metadata": {},
   "outputs": [
    {
     "data": {
      "image/png": "[encoded data removed]",
      "text/plain": [
       "<Figure size 432x288 with 1 Axes>"
      ]
     },
     "metadata": {
      "needs_background": "light"
     },
     "output_type": "display_data"
    },
    {
     "data": {
      "image/png": "[encoded data removed]",
      "text/plain": [
       "<Figure size 432x288 with 1 Axes>"
      ]
     },
     "metadata": {
      "needs_background": "light"
     },
     "output_type": "display_data"
    },
    {
     "data": {
      "image/png": "[encoded data removed]",
      "text/plain": [
       "<Figure size 432x288 with 1 Axes>"
      ]
     },
     "metadata": {
      "needs_background": "light"
     },
     "output_type": "display_data"
    }
   ],
   "source": [
    "from matplotlib import font_manager, rc\n",
    "import platform\n",
    "#매킨토시의 경우\n",
    "if platform.system() == 'Darwin':\n",
    "    rc('font', family='AppleGothic')\n",
    "#윈도우의 경우\n",
    "elif platform.system() == 'Windows':\n",
    "    font_name = font_manager.FontProperties(fname=\"c:/Windows/Fonts/malgun.ttf\").get_name()\n",
    "    rc('font', family=font_name)\n",
    "\n",
    "#0. 파일을 불러오기 전\n",
    "# 인덱스는 무엇인지, 컬럼은 어떻게 되어 있는지, 자료구조는 어떤지, 구분자는 무엇인지 파악해보자\n",
    "\n",
    "fruit = pd.read_csv('./data/lovefruits.csv', encoding='ms949') #'utf-8로는 못하겠는데?'와 같은 디코딩에러가 나면 인코딩이 무엇인지 추적해서 입력해주자\n",
    "#print(fruit)  : 제대로 읽었는지 확인\n",
    "\n",
    "#1. 막대그래프를 이용해서 데이터 수 출력하기\n",
    "data = fruit['선호과일'].value_counts(sort=False) #value_counts만 부르면 자기가 알아서 해당 행의 자료를 카운트함\n",
    "plt.bar(range(0,len(data),1), data)\n",
    "plt.xticks(range(0,len(data),1),data.index) #첫번째부터 data의 끝까지 1개씩 data의 인덱스를 넣어줘라\n",
    "plt.title('과일 선호도 조사')\n",
    "plt.show()\n",
    "\n",
    "#2. 1과 같은 작업을 히스토그램으로 해보기\n",
    "plt.hist(fruit['선호과일']) #2-1. 히스토그램의 경우 카운트를 할 열만 때려 넣어주면 끝\n",
    "plt.show()\n",
    "\n",
    "#2-2. 히스토그램은 bins 옵션을 이용해서 구간의 개수를 설정하고 그릴수 있음\n",
    "# 특히 연속형 데이터라면 구간 설정을 반드시 해야 함\n",
    "\n",
    "df = pd.read_csv('./data/student.csv', encoding='cp949')\n",
    "plt.hist(df['수학'], bins=3) #bins로 점수의 범위를 설정해버리는 것 (최소~최대 구간)\n",
    "plt.show()"
   ]
  }
 ],
 "metadata": {
  "kernelspec": {
   "display_name": "Python 3",
   "language": "python",
   "name": "python3"
  },
  "language_info": {
   "codemirror_mode": {
    "name": "ipython",
    "version": 3
   },
   "file_extension": ".py",
   "mimetype": "text/x-python",
   "name": "python",
   "nbconvert_exporter": "python",
   "pygments_lexer": "ipython3",
   "version": "3.7.4"
  }
 },
 "nbformat": 4,
 "nbformat_minor": 2
}
