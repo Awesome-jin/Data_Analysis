{
 "cells": [
  {
   "cell_type": "markdown",
   "metadata": {},
   "source": [
    "# 열과 행 선택. 조건별 추출"
   ]
  },
  {
   "cell_type": "code",
   "execution_count": 3,
   "metadata": {},
   "outputs": [
    {
     "name": "stdout",
     "output_type": "stream",
     "text": [
      "사과              apple\n",
      "수박         watermelon\n",
      "참외     oriental melon\n",
      "바나나            banana\n",
      "레몬              lemon\n",
      "망고              mango\n",
      "Name: name, dtype: object\n",
      "\n",
      "               name  price\n",
      "사과            apple   1500\n",
      "수박       watermelon  15000\n",
      "참외   oriental melon   1000\n",
      "바나나          banana    500\n",
      "레몬            lemon   1500\n",
      "망고            mango    700\n",
      "\n",
      "code               1\n",
      "manufacture    korea\n",
      "name           apple\n",
      "price           1500\n",
      "Name: 사과, dtype: object\n",
      "code                        3\n",
      "manufacture             korea\n",
      "name           oriental melon\n",
      "price                    1000\n",
      "Name: 참외, dtype: object\n"
     ]
    }
   ],
   "source": [
    "import numpy as np\n",
    "import pandas as pd\n",
    "\n",
    "#1.item.csv 파일의 내용을 가져오기\n",
    "item = pd.read_csv('./data/item.csv')\n",
    "\n",
    "#print(item.head()) # 1-1. 제대로 불러왔는지 확인\n",
    "#print(item.info()) # 1-2. 전체적인 개요 한번씩 확인하기\n",
    "\n",
    "item.index=['사과','수박','참외','바나나','레몬','망고']\n",
    "print(item['name']) #하나의 열 선택하기\n",
    "print(\"\")\n",
    "print(item[['name','price']]) #여러개 열 선택하기\n",
    "print(\"\")\n",
    "\n",
    "#행을 선택하기\n",
    "print(item.loc['사과']) #인덱스 이름으로 접근\n",
    "print(item.iloc[2]) #행의 위치로 접근"
   ]
  },
  {
   "cell_type": "code",
   "execution_count": 13,
   "metadata": {},
   "outputs": [
    {
     "name": "stdout",
     "output_type": "stream",
     "text": [
      "    code manufacture            name  price\n",
      "사과     1       korea           apple   1500\n",
      "수박     2       korea      watermelon  15000\n",
      "참외     3       korea  oriental melon   1000\n",
      "레몬     5       korea           lemon   1500\n",
      "    code manufacture            name  price\n",
      "사과     1       korea           apple   1500\n",
      "참외     3       korea  oriental melon   1000\n",
      "레몬     5       korea           lemon   1500\n"
     ]
    }
   ],
   "source": [
    "#price가 1000 이상인 데이터만 추출하기\n",
    "print(item[item['price']>=1000])\n",
    "\n",
    "#price가 100이나 1500인 데이터만\n",
    "print(item[item['price'].isin([1000,1500])])"
   ]
  },
  {
   "cell_type": "markdown",
   "metadata": {},
   "source": [
    "# 데이터 탐색 함수"
   ]
  },
  {
   "cell_type": "code",
   "execution_count": 2,
   "metadata": {},
   "outputs": [
    {
     "ename": "NameError",
     "evalue": "name 'pd' is not defined",
     "output_type": "error",
     "traceback": [
      "\u001b[1;31m---------------------------------------------------------------------------\u001b[0m",
      "\u001b[1;31mNameError\u001b[0m                                 Traceback (most recent call last)",
      "\u001b[1;32m<ipython-input-2-5fcb0f6a7bb1>\u001b[0m in \u001b[0;36m<module>\u001b[1;34m\u001b[0m\n\u001b[1;32m----> 1\u001b[1;33m \u001b[0mdf\u001b[0m \u001b[1;33m=\u001b[0m \u001b[0mpd\u001b[0m\u001b[1;33m.\u001b[0m\u001b[0mread_csv\u001b[0m\u001b[1;33m(\u001b[0m\u001b[1;34m\"./data/auto-mpg.csv\"\u001b[0m\u001b[1;33m)\u001b[0m\u001b[1;33m\u001b[0m\u001b[1;33m\u001b[0m\u001b[0m\n\u001b[0m\u001b[0;32m      2\u001b[0m \u001b[1;31m#print(df.head())\u001b[0m\u001b[1;33m\u001b[0m\u001b[1;33m\u001b[0m\u001b[1;33m\u001b[0m\u001b[0m\n\u001b[0;32m      3\u001b[0m \u001b[1;33m\u001b[0m\u001b[0m\n\u001b[0;32m      4\u001b[0m \u001b[1;31m#descriptive statistics\u001b[0m\u001b[1;33m\u001b[0m\u001b[1;33m\u001b[0m\u001b[1;33m\u001b[0m\u001b[0m\n\u001b[0;32m      5\u001b[0m \u001b[1;31m#print(df.describe())\u001b[0m\u001b[1;33m\u001b[0m\u001b[1;33m\u001b[0m\u001b[1;33m\u001b[0m\u001b[0m\n",
      "\u001b[1;31mNameError\u001b[0m: name 'pd' is not defined"
     ]
    }
   ],
   "source": [
    "df = pd.read_csv(\"./data/auto-mpg.csv\")\n",
    "#print(df.head())\n",
    "\n",
    "#descriptive statistics\n",
    "#print(df.describe())\n",
    "#print(df.describe(include='all')) #기술통계 요약에 범주형 자료 포함 여부 (include='all') 설정\n",
    "#print(df['origin'].value_counts()) #범주형 자료 level(항목)별 데이터 수 파악\n",
    "\n",
    "#cyl 컬럼의 평균\n",
    "print(df['cyl'].mean())\n",
    "stock = pd.DataFrame({'다음':[100,120,130]})\n",
    "print(stock['다음'].diff()) # 각 행의 차이"
   ]
  },
  {
   "cell_type": "markdown",
   "metadata": {},
   "source": [
    "# 탐색적 자료 분석 - 상관"
   ]
  },
  {
   "cell_type": "code",
   "execution_count": 9,
   "metadata": {},
   "outputs": [
    {
     "name": "stdout",
     "output_type": "stream",
     "text": [
      "-0.8322442148315753\n"
     ]
    }
   ],
   "source": [
    "df = pd.read_csv(\"./data/auto-mpg.csv\")\n",
    "print(df['weight'].corr(df['mpg'])) #weight와 mpg의 상관계수 보기 기준열.상관관계를 볼 열을 입력하는 방식"
   ]
  },
  {
   "cell_type": "markdown",
   "metadata": {},
   "source": [
    "# 정렬"
   ]
  },
  {
   "cell_type": "code",
   "execution_count": 15,
   "metadata": {},
   "outputs": [
    {
     "name": "stdout",
     "output_type": "stream",
     "text": [
      "0      3504\n",
      "1      3693\n",
      "2      3436\n",
      "3      3433\n",
      "4      3449\n",
      "       ... \n",
      "387    2790\n",
      "388    2130\n",
      "389    2295\n",
      "390    2625\n",
      "391    2720\n",
      "Name: weight, Length: 392, dtype: int64\n",
      "53     1613\n",
      "142    1649\n",
      "339    1755\n",
      "341    1760\n",
      "52     1773\n",
      "       ... \n",
      "94     4951\n",
      "89     4952\n",
      "41     4955\n",
      "102    4997\n",
      "43     5140\n",
      "Name: weight, Length: 392, dtype: int64\n",
      "53     1613\n",
      "142    1649\n",
      "339    1755\n",
      "341    1760\n",
      "52     1773\n",
      "       ... \n",
      "94     4951\n",
      "89     4952\n",
      "41     4955\n",
      "102    4997\n",
      "43     5140\n",
      "Name: weight, Length: 392, dtype: int64\n",
      "      mpg  cyl  displ   hp  weight  accel  yr  origin  \\\n",
      "19   26.0    4   97.0   46    1835   20.5  70       2   \n",
      "101  26.0    4   97.0   46    1950   21.0  73       2   \n",
      "242  43.1    4   90.0   48    1985   21.5  78       2   \n",
      "323  44.3    4   90.0   48    2085   21.7  80       2   \n",
      "324  43.4    4   90.0   48    2335   23.7  80       2   \n",
      "..    ...  ...    ...  ...     ...    ...  ..     ...   \n",
      "6    14.0    8  454.0  220    4354    9.0  70       1   \n",
      "8    14.0    8  455.0  225    4425   10.0  70       1   \n",
      "13   14.0    8  455.0  225    3086   10.0  70       1   \n",
      "94   12.0    8  455.0  225    4951   11.0  73       1   \n",
      "115  16.0    8  400.0  230    4278    9.5  73       1   \n",
      "\n",
      "                                name  \n",
      "19      volkswagen 1131 deluxe sedan  \n",
      "101          volkswagen super beetle  \n",
      "242  volkswagen rabbit custom diesel  \n",
      "323             vw rabbit c (diesel)  \n",
      "324               vw dasher (diesel)  \n",
      "..                               ...  \n",
      "6                   chevrolet impala  \n",
      "8                   pontiac catalina  \n",
      "13           buick estate wagon (sw)  \n",
      "94          buick electra 225 custom  \n",
      "115               pontiac grand prix  \n",
      "\n",
      "[392 rows x 9 columns]\n"
     ]
    }
   ],
   "source": [
    "print(df['weight'])\n",
    "\n",
    "#Series의 정렬\n",
    "print(df['weight'].sort_values()) #오름차순 정렬\n",
    "print(df['weight'].sort_values(ascending=True)) # 내림차순 정렬\n",
    "\n",
    "#DataFrame 정렬\n",
    "print(df.sort_values(by=['hp','cyl'])) #1순위로 hp의 오름차순이고 hp의 값이 같다면 cyl의 오름차순으로 정렬"
   ]
  },
  {
   "cell_type": "markdown",
   "metadata": {},
   "source": [
    "# Rank, Rename, 인덱스 재구성"
   ]
  },
  {
   "cell_type": "code",
   "execution_count": 27,
   "metadata": {},
   "outputs": [
    {
     "name": "stdout",
     "output_type": "stream",
     "text": [
      "   code  manufacture  name  price\n",
      "0   1.0          3.0   1.0    4.5\n",
      "1   2.0          3.0   6.0    6.0\n",
      "2   3.0          3.0   5.0    3.0\n",
      "3   4.0          6.0   2.0    1.0\n",
      "4   5.0          3.0   3.0    4.5\n",
      "5   6.0          3.0   4.0    2.0\n",
      "   code  manufacture  name  price\n",
      "0   1.0          1.0   1.0    4.0\n",
      "1   2.0          1.0   6.0    6.0\n",
      "2   3.0          1.0   5.0    3.0\n",
      "3   4.0          6.0   2.0    1.0\n",
      "4   5.0          1.0   3.0    4.0\n",
      "5   6.0          1.0   4.0    2.0\n",
      "   코드  manufacture            name  price\n",
      "0   1        korea           apple   1500\n",
      "1   2        korea      watermelon  15000\n",
      "2   3        korea  oriental melon   1000\n",
      "3   4  philippines          banana    500\n",
      "4   5        korea           lemon   1500\n",
      "5   6        korea           mango    700\n",
      "    manufacture            name  price\n",
      "코드                                    \n",
      "1         korea           apple   1500\n",
      "2         korea      watermelon  15000\n",
      "3         korea  oriental melon   1000\n",
      "4   philippines          banana    500\n",
      "5         korea           lemon   1500\n",
      "6         korea           mango    700\n"
     ]
    }
   ],
   "source": [
    "item = pd.read_csv(\"./data/item.csv\")\n",
    "#print(item)\n",
    "print(item.rank())\n",
    "print(item.rank(method='min')) #price의 0과 4번이 mean인 4.5를 min으로 하면 둘다 낮은 수인 4등으로 나옴\n",
    "\n",
    "#컬럼이름 변경 : rename\n",
    "item.rename(columns={'code':'코드'},inplace=True) #inplace를 하면 원본을 바꾸어버리는 것\n",
    "print(item)\n",
    "\n",
    "#나 코드라는 열을 index로 쓸꺼고 원본에 반영해!\n",
    "item.set_index('코드', inplace=True)\n",
    "print(item)"
   ]
  }
 ],
 "metadata": {
  "kernelspec": {
   "display_name": "Python 3",
   "language": "python",
   "name": "python3"
  },
  "language_info": {
   "codemirror_mode": {
    "name": "ipython",
    "version": 3
   },
   "file_extension": ".py",
   "mimetype": "text/x-python",
   "name": "python",
   "nbconvert_exporter": "python",
   "pygments_lexer": "ipython3",
   "version": "3.7.4"
  }
 },
 "nbformat": 4,
 "nbformat_minor": 2
}
